{
 "cells": [
  {
   "cell_type": "code",
   "execution_count": 1,
   "metadata": {},
   "outputs": [
    {
     "name": "stdout",
     "output_type": "stream",
     "text": [
      "Spark NLP version 3.3.4\n",
      "Apache Spark version: 3.1.2\n"
     ]
    }
   ],
   "source": [
    "import sparknlp\n",
    " \n",
    "spark = sparknlp.start() # for GPU training >> sparknlp.start(gpu = True) # for Spark 2.3 =>> sparknlp.start(spark23 = True)\n",
    "import pyspark.sql.functions as F\n",
    "from sparknlp.annotator import *\n",
    "from sparknlp.base import *\n",
    "import sparknlp\n",
    "from sparknlp.pretrained import PretrainedPipeline\n",
    " \n",
    "print(\"Spark NLP version\", sparknlp.version())\n",
    " \n",
    "print(\"Apache Spark version:\", spark.version)"
   ]
  },
  {
   "cell_type": "code",
   "execution_count": 2,
   "metadata": {},
   "outputs": [
    {
     "data": {
      "text/plain": [
       "'Spark NLP'"
      ]
     },
     "execution_count": 2,
     "metadata": {},
     "output_type": "execute_result"
    }
   ],
   "source": [
    "from pyspark.sql import SparkSession\n",
    "import pyspark.sql.functions as fn\n",
    "spark.sparkContext.appName"
   ]
  },
  {
   "cell_type": "code",
   "execution_count": 3,
   "metadata": {},
   "outputs": [],
   "source": [
    "from pyspark.sql.functions import *\n",
    "from pyspark.sql.types import TimestampType"
   ]
  },
  {
   "cell_type": "code",
   "execution_count": 4,
   "metadata": {},
   "outputs": [],
   "source": [
    "import pandas as pd\n",
    "import numpy as np\n",
    "from datetime import *"
   ]
  },
  {
   "cell_type": "code",
   "execution_count": 5,
   "metadata": {},
   "outputs": [],
   "source": [
    "spark.conf.set(\"spark.sql.execution.arrow.pyspark.enabled\", True)\n",
    "#ps.set_option(\"compute.default_index_type\", \"distributed\")"
   ]
  },
  {
   "cell_type": "code",
   "execution_count": 84,
   "metadata": {},
   "outputs": [],
   "source": [
    "reviews = pd.read_csv('_data/Dataset_Review(F).csv')\n",
    "reviews['date']=pd.to_datetime(reviews['date'])\n",
    "reviews['date']=reviews['date'].\n",
    "print(reviews.columns)\n",
    "\n"
   ]
  },
  {
   "cell_type": "code",
   "execution_count": 75,
   "metadata": {},
   "outputs": [
    {
     "name": "stdout",
     "output_type": "stream",
     "text": [
      "Index(['Unnamed: 0', 'businessname', 'Business_ID', 'violdttm', 'TMP_ID', '*',\n",
      "       '**', '***', 'date'],\n",
      "      dtype='object')\n"
     ]
    },
    {
     "data": {
      "text/plain": [
       "89155"
      ]
     },
     "execution_count": 75,
     "metadata": {},
     "output_type": "execute_result"
    }
   ],
   "source": [
    "tmp = pd.read_csv('_data/Dataset_TMP_violation_level(F).csv')\n",
    "\n",
    "tmp['date'] = pd.to_datetime(tmp['violdttm'])\n",
    "\n",
    "print(tmp.columns)\n",
    "\n",
    "len(tmp)\n"
   ]
  },
  {
   "cell_type": "code",
   "execution_count": 81,
   "metadata": {},
   "outputs": [
    {
     "name": "stdout",
     "output_type": "stream",
     "text": [
      "0 out of 89155\n",
      "2500 out of 89155\n",
      "5000 out of 89155\n",
      "7500 out of 89155\n",
      "10000 out of 89155\n",
      "12500 out of 89155\n",
      "15000 out of 89155\n",
      "17500 out of 89155\n",
      "20000 out of 89155\n",
      "22500 out of 89155\n",
      "25000 out of 89155\n",
      "27500 out of 89155\n",
      "30000 out of 89155\n",
      "32500 out of 89155\n",
      "35000 out of 89155\n",
      "37500 out of 89155\n",
      "40000 out of 89155\n",
      "42500 out of 89155\n",
      "45000 out of 89155\n",
      "47500 out of 89155\n",
      "50000 out of 89155\n",
      "52500 out of 89155\n",
      "55000 out of 89155\n",
      "57500 out of 89155\n",
      "60000 out of 89155\n",
      "62500 out of 89155\n",
      "65000 out of 89155\n",
      "67500 out of 89155\n",
      "70000 out of 89155\n",
      "72500 out of 89155\n",
      "75000 out of 89155\n",
      "77500 out of 89155\n",
      "80000 out of 89155\n",
      "82500 out of 89155\n",
      "85000 out of 89155\n",
      "87500 out of 89155\n"
     ]
    },
    {
     "data": {
      "text/plain": [
       "0    Great spot for lunch! The food was delicious a...\n",
       "1    Great spot for lunch! The food was delicious a...\n",
       "2    Great spot for lunch! The food was delicious a...\n",
       "3    Great spot for lunch! The food was delicious a...\n",
       "4    Great spot for lunch! The food was delicious a...\n",
       "dtype: object"
      ]
     },
     "execution_count": 81,
     "metadata": {},
     "output_type": "execute_result"
    }
   ],
   "source": [
    "\n",
    "# def flatten_reviews(label_df, reviews):\n",
    "#     \"\"\" label_df: inspection dataframe with date, business_id\n",
    "#         reviews: dataframe of reviews\n",
    "        \n",
    "#         Returns all of the text of reviews previous to each\n",
    "#         inspection listed in label_df.\n",
    "#     \"\"\"\n",
    "#     reviews_dictionary = {}\n",
    "#     N = len(label_df)\n",
    "    \n",
    "#     # 將所有review按照時間區間框選出來, 製作成pre_inspection_reviews, 將所有item用空白join起來, 以all_text存入對應的pid\n",
    "#     for i, (pid, row) in enumerate(label_df.iterrows()):\n",
    "#         # we want to only get reviews for this restaurant that ocurred before the inspection\n",
    "#         pre_inspection_mask = (reviews.date < row.date) & (reviews.business_id == row.Business_ID)\n",
    "        \n",
    "#         # pre-inspection reviews\n",
    "#         pre_inspection_reviews = reviews[pre_inspection_mask]\n",
    "        \n",
    "#         # join the text\n",
    "#         all_text = ' '.join(pre_inspection_reviews.text)\n",
    "\n",
    "#         # store in dictionary\n",
    "#         reviews_dictionary[pid] = all_text\n",
    "        \n",
    "        \n",
    "#         if i % 2500 == 0:\n",
    "#             print('{} out of {}'.format(i, N))\n",
    "        \n",
    "#     # return series in same order as the original data frame\n",
    "#     return pd.Series(reviews_dictionary)[label_df.index]\n",
    "\n",
    "# train_text = flatten_reviews(tmp, reviews)\n",
    "# train_text.head()"
   ]
  },
  {
   "cell_type": "code",
   "execution_count": 6,
   "metadata": {
    "scrolled": false
   },
   "outputs": [
    {
     "name": "stdout",
     "output_type": "stream",
     "text": [
      "+---+----------+--------------------+--------------------+----------+------+---+---+---+----------+--------------------+\n",
      "|_c0|Unnamed: 0|        businessname|         Business_ID|  violdttm|TMP_ID|  *| **|***|      date|            all_text|\n",
      "+---+----------+--------------------+--------------------+----------+------+---+---+---+----------+--------------------+\n",
      "|  0|         0|100% Delicias Exp...|dAolyz6VhWLFnpltq...|2019/05/07|   172|  2|  0|  2|2019-05-07|Great spot for lu...|\n",
      "|  1|         1|100% Delicias Exp...|dAolyz6VhWLFnpltq...|2020/03/18|   181|  7|  1|  1|2020-03-18|Great spot for lu...|\n",
      "+---+----------+--------------------+--------------------+----------+------+---+---+---+----------+--------------------+\n",
      "only showing top 2 rows\n",
      "\n"
     ]
    }
   ],
   "source": [
    "sdf = spark.read.csv(\"file:/home/john/_data/tmp_all_text_89155.csv\",inferSchema=True,header=True)\n",
    "sdf.show(2)\n"
   ]
  },
  {
   "cell_type": "code",
   "execution_count": 15,
   "metadata": {},
   "outputs": [
    {
     "name": "stdout",
     "output_type": "stream",
     "text": [
      "22098\n"
     ]
    }
   ],
   "source": [
    "x=0.25\n",
    "subset_df, large_df = sdf.randomSplit([x, 1 - x])\n",
    "subset_count = subset_df.count()\n",
    "print(subset_count)"
   ]
  },
  {
   "cell_type": "code",
   "execution_count": 16,
   "metadata": {},
   "outputs": [
    {
     "name": "stdout",
     "output_type": "stream",
     "text": [
      "lemma_antbnc download started this may take some time.\n",
      "Approximate size to download 907.6 KB\n",
      "[OK!]\n"
     ]
    }
   ],
   "source": [
    "import nltk\n",
    "# Build NLP preprocessing pipeline\n",
    "from sparknlp.base import DocumentAssembler\n",
    "document_assembler = DocumentAssembler() \\\n",
    ".setInputCol('all_text') \\\n",
    ".setOutputCol('document')\n",
    "from sparknlp.annotator import Tokenizer\n",
    "tokenizer = Tokenizer() \\\n",
    ".setInputCols(['document']) \\\n",
    ".setOutputCol('tokenized') \\\n",
    ".setContextChars(['(', ')']) \\\n",
    ".setSplitChars(['-'])\n",
    "from sparknlp.annotator import Normalizer\n",
    "normalizer = Normalizer() \\\n",
    ".setInputCols(['tokenized']) \\\n",
    ".setOutputCol('normalized') \\\n",
    ".setLowercase(True) \\\n",
    ".setCleanupPatterns(['[^A-Za-z]'])\n",
    "from sparknlp.annotator import LemmatizerModel\n",
    "lemmatizer = LemmatizerModel \\\n",
    ".pretrained() \\\n",
    ".setInputCols(['normalized']) \\\n",
    ".setOutputCol('lemmatized')\n",
    "from nltk.corpus import stopwords\n",
    "nltk_stopwords = stopwords.words('english')\n",
    "from sparknlp.annotator import StopWordsCleaner\n",
    "stopwords_cleaner = StopWordsCleaner() \\\n",
    ".setInputCols(['lemmatized']) \\\n",
    ".setOutputCol('unigrams') \\\n",
    ".setStopWords(nltk_stopwords)\n",
    "from sparknlp.annotator import NGramGenerator\n",
    "ngrammer = NGramGenerator() \\\n",
    "    .setInputCols(['unigrams']) \\\n",
    "    .setOutputCol('ngrams') \\\n",
    "    .setN(2) \\\n",
    "    .setEnableCumulative(True) \\\n",
    "    .setDelimiter('_')\n",
    "from sparknlp.base import Finisher\n",
    "finisher = Finisher() \\\n",
    ".setInputCols(['unigrams', 'ngrams'])"
   ]
  },
  {
   "cell_type": "code",
   "execution_count": 17,
   "metadata": {},
   "outputs": [],
   "source": [
    "# Assemble pipeline\n",
    "from pyspark.ml import Pipeline\n",
    "pipeline = Pipeline() \\\n",
    ".setStages([document_assembler,\n",
    "            tokenizer,\n",
    "            normalizer,\n",
    "            lemmatizer,\n",
    "            stopwords_cleaner,\n",
    "            ngrammer,\n",
    "            finisher])"
   ]
  },
  {
   "cell_type": "code",
   "execution_count": 88,
   "metadata": {
    "scrolled": true
   },
   "outputs": [
    {
     "name": "stderr",
     "output_type": "stream",
     "text": [
      "/home/john/.local/lib/python3.6/site-packages/pyspark/sql/pandas/conversion.py:289: UserWarning: createDataFrame attempted Arrow optimization because 'spark.sql.execution.arrow.pyspark.enabled' is set to true; however, failed by the reason below:\n",
      "  PyArrow >= 1.0.0 must be installed; however, it was not found.\n",
      "Attempting non-optimization as 'spark.sql.execution.arrow.pyspark.fallback.enabled' is set to true.\n",
      "  warnings.warn(msg)\n"
     ]
    }
   ],
   "source": [
    "stmp = spark.createDataFrame(tmp)"
   ]
  },
  {
   "cell_type": "code",
   "execution_count": 90,
   "metadata": {
    "scrolled": false
   },
   "outputs": [
    {
     "name": "stdout",
     "output_type": "stream",
     "text": [
      "+--------------------+\n",
      "|            all_text|\n",
      "+--------------------+\n",
      "|Great spot for lu...|\n",
      "|Great spot for lu...|\n",
      "+--------------------+\n",
      "only showing top 2 rows\n",
      "\n"
     ]
    }
   ],
   "source": [
    "\n",
    "stmp[['all_text']].show(2)"
   ]
  },
  {
   "cell_type": "code",
   "execution_count": 134,
   "metadata": {
    "scrolled": true
   },
   "outputs": [],
   "source": [
    "#x=0.25\n",
    "#subset_df, large_df = stmp.randomSplit([x, 1 - x])\n",
    "#subset_count = subset_df.count()\n",
    "#print(subset_count)"
   ]
  },
  {
   "cell_type": "code",
   "execution_count": 18,
   "metadata": {},
   "outputs": [],
   "source": [
    "processed_reviews = pipeline.fit(subset_df).transform(subset_df)"
   ]
  },
  {
   "cell_type": "code",
   "execution_count": 19,
   "metadata": {},
   "outputs": [
    {
     "data": {
      "text/plain": [
       "[Row(_c0=9, Unnamed: 0=9, businessname='100% Delicias Express', Business_ID='dAolyz6VhWLFnpltqOWp1w', violdttm='2019/10/28', TMP_ID=211, *=0, **=0, ***=0, date='2019-10-28', all_text=\"Great spot for lunch! The food was delicious and fresh with super generous portions. The rice with chicken stew could feed two. The beef empanadas was amazing and juicy and I loved the papaya smoothie. The only thing that initially made me hesitate to even order was the clinical smell (chemicals from cleaning stuff?) and the interior isn't very inviting to eat-in  not quite cozy but perfect for take out! Their pork mofongo brought tears to our eyes. Literally...like  this was the best Mofongo we've ever had.Let's go back to the beginning. I'm perusing a local JP facebook page  and I see a post about a new Dominican restaurant opening up on the main drag in JP. My fiance is in town  and aside from always getting sushi  we like to eat Mofongo. Good mofongo. I mean  we'll eat anything really...but we can't pass up a place that has BOTH mofongo AND oxtail.Initially we walk past it on our way to get breakfast at another spot  but we stop in first to get a menu  knowing that we'll be back for dinner. Welp  we had to try their empanadas natch. FANTASTIC  light  hot  crispy  and not too big. The spinach/cheese and beef empanadas were perfect little parcels on our way to breakfast. The people were super friendly  and albeit skeptical when we said that we would return for dinner.8.30pm on the nose we arrive at their door  eager to order our mofongo. They packaged up our oxtail  beans and rice and a little side salad ready to go and we chatted with Sarah (awesome  smart staff) about work  life  school while they make our mofongo FRESH. IDK  maybe 10 minutes later our steaming mofongo comes out  placed in a container and we go on our merry way.Smells GLORIOUS! With mouths watering we open up the container a few minutes later at home and HOLY AMAZING DELICIOUS JUICY MOFONGO. It was moist  not fatty  crispy pork crackling  fantastic flavour  not too salty. I can't stress enough how glorious this was. It came with a little container of golden deliciousness. Now  usually with Mofongo it's either drenched in garlic butter or you get a container of garlic butter on the side. You smell like you're trying to ward off vampires for weeks. But no  this was a glorious juicy parcel...resplendent with a soupcon of garlic  butter  and broth. A perfect accompaniment to literally anything on the planet  but a perfect marriage with the Mofongo. I must now capitalize Mofongo  because theirs is the Mofongo to rule them all. Just...DO IT.Not to be outdone  we also ordered their oxtail. I've had my fair share of oxtail stews from different regions of the world  but I have rarely had one with such complex flavour. IT was perhaps a tomatoey base full of spice and flavour. Juicy and tender meat and a generous helping of stew/sauce was accompanied by straight up mama's cooking rice and beans. Now  I'm always here for an honest review  and the oxtail/rice and beans were a bit cold. Did we notice? ABSOLUTELY NOT  because we gulped everything down so quickly. Only briefly breaking to exclaim how perfect the meal was. For less than $25 for 2 people  we were happy to leave a generous tip and will be BACK FOR ALL OF THE FOOD.Look  they sell stewed mushrooms and a dish of okra. I HATE both of those items  but if 100% Delicias makes them  I'd eat them.GO GO GO GO. Please don't wait. I want them to be around forever. My children need to have their Mofongo. Stopped by to pick up some tostones  yuca fries and chicharones for a party and the food was great. You'll definitely have to get the mayonnaise dipping sauce as it elevated all three dishes which were already delicious to begin with. Freshly made when I ordered  everything had a satisfying crunch and taste. Would bring to a party again. I really like this place . The owner is the son of the original owner and doing his best . They do a great job catering to all different JP communities (veg options )  and I think it's just really good . Keep up the good work 5 stars for the food  3 stars for the service. Let me go into detail:As another reviewer stated  the pork mofongo was HEAVENLY. I mean  really this was one of the best-tasting dishes I have eaten in a long time. It was crispy  salty  filling  and paired really well with the garlicky sauce that it came with (I think this was garlic? someone else can correct me). This really was the center piece of the meal and has guaranteed my repeat business.I also ordered two chicken and cheese empanadas  which I imagine would have been good if that's what I actually received. The labels must have been switched around because I pointed to the tray that said chicken and cheese and I audibly asked for  chicken and cheese  but my first bite at home was ground beef. No worries  they were freakin' delicious but not what I ordered and the person serving me didn't seem to know if there was a difference. The silver lining is I paid for chicken empanadas ($2.50 each) which were slightly cheaper.Finally  I really wanted to try the stewed oxtail so I ordered a small ($12) over rice. The server started to scoop from the stewed beef so I stopped her and re-iterated that I wanted the oxtail. She said  oh sorry  and stared at the stewed meats for a few seconds and then resumed scooping from the beef. I again tried to specify that I meant OXTAIL and was informed that there was none left. Again  no problem but it would have saved me interrupting her if I was told that in the first place. When it came time to pay  the server seemed to be endlessly tapping away and canceling items on the register. I don't know what she was doing but she gave me a few nervous laughs and apologies. I noticed the empanadas still sitting on the counter so I asked her about them and she seemed to forget that I ordered them. By this point a line was forming and there was nobody else manning the food station so I just wanted to get the transaction over with and get home. My total rang up as $37!! This was absolutely a mistake because the mofongo ($10.50) wasn't even listed  the stewed chicken was in there instead for $9  the two empanadas rang up as $2 each (even though the menu shows $2.50)  and the small stewed beef should have been $9 but rang up as a large for $22 (there were about four slices of beef so there is no way I accidentally got a large)! In a moment of embarrassment and not wanting to try and have her re-do the transaction (it had taken her at least  5 minutes up to this point)  I paid and left.Am I pissed about overpaying? Absolutely but whatever I won't buy coffee for a week to make up for it. Was the food amazing to an ungodly degree? You bet. Give this a try but a few points of advice: don't go an hour and a half before closing  and make sure your receipt is correct. Wow! What a great find. Clean and good light inside. Excellent service by the wonderful couple who own and run this place. We went for the Yuca frita with salsa and were very happy. Sitting in the window you can munch away and watch the world pass by. Don't overlook this place if you are in the neighborhood. My wife and I went to Delicias for dinner this evening and were blown away by the food! We've eaten at almost every restaurant on Centre Street  and Delicias may be a new favorite. The portions were also huge which is great when you're a big guy like me. Only suggestion to management is to make the menu a little more clear... we were a little confused by the lunch vs dinner options. Keep it up!!! First visit to this establishment in Jamaica plain good first impression .The person behind the counter was friendly and cheerful. The restaurant is clean and well organized . My wife had the trifongo and I had a pernil  sandwich. Both were good and very tasty. The prices are fair for the area we will definitely go back. Who doesn't love a good Dominican restaurant?! 100% Delicias Express is a great find in JP. I had their yellow rice  eggplant  and salad and it was very good. I wasn't expecting the eggplant to be more of a thick sauce but it was flavorful. The portions are plentiful for the price!  I also love how this restaurant tries to reduce food waste. Service here is very helpful and pleasant. There's plenty of street parking available (at least when I went). I am looking forward to trying some of their other offerings :) WTF! This is what we are calling stew steak 1 slice of cucumber.4 slices of meat A bunch of white rice $11.25And it's bland .... They didn't have any other meats eitherNever again. Delicious Dominican food! Got yellow rice with chicken stew and side of yucca fries. Everything tasted home cooked and was delicious  especially the chicken - well seasoned and tender. Rice was nice and not oily. I also appreciate that it wasn't overly salty. I also got the guava juice which was tasty. Disagree with those who say portions are small. They gave generous serving of rice and chicken. Great local JP spot!! Had a veggie burger on my first visit and it was better than many I've had. I want to try the vegan blt soon. Friends tell me the yuca fries are great too. We have many great new food options in central JP. I'm glad this is one of them. I work in JP 6/7 days a week and come to this spot for lunch almost as much. Never gets old  always fresh  always hot  always hots the spot. Cannot recommend them enough for anyone wanting authentic Dominican food...or any hungry person in general. So much love for these folks and their food Delicious food from a family-run establishment.  My new favorite place to grab a quick  hearty lunch of rice & beans with stewed beef or oxtail and salad. I love this spot and i'm definitely coming back soon. We had chicharron  fried plaintains  pork mofongo and yuca fries - it was all delicious! Their customer service is friendly and the restaurant is family owned. If you're in the mood for dominican/latin food you're gonna want to stop at delicias!! -Very friendly staff-Tasty food- highly recommend the pork mofongo (made to order)  and the stewed chicken and/or eggplant with yellow rice and empanadas are also solid bets-Large (and physically heavy) portions for not a lot of $$What more do you want in a local fast-casual spot? (Aside from not using styrofoam  which is not cool.)Can't wait to try the smoothies- papaya + mango is calling my name. What a great vegetarian dinner we just had! I ordered the veggie Monfongo and it was great. Huge portion (allowing me left overs). Both my husband and I loved it. Freshly made and you can taste the difference. We also had the corn pudding which was super too.The staff was very helpful explaining the menu too. Nice friendly place. I came here for the first time for a Food For All order. The staff was extremely friendly and piled my food high. It was so good I brought friends with me the next time to try it. Fast service and delicious chicken and pork chops! Simpler menu than their location in Roslindale. Good Monfongo! Great food  large portions  and amazing people. One of our favorites on Centre St! I tried the stewed chicken with rice and beans and side of yuca fries. Piña Coladas are also super tasty! The empanadas are THE BEST and the management is stellar. I ordered 40 empanadas for an event  and even though they had a flood that day and were basically closed  they made sure our order was fresh and waiting for us. So grateful and so delicious! A friend brought takeout to book club  because the book was This Is How You Lose Her  and really  any excuse for Dominican food  amirite?Anway  let's start with the absolute star of the plates and sides: those chicharrones!Exquisitely rendered  heavily salted  huge chunks (some including bone) of skin and fat and hoooo boy  these are legit. I was supposed to share with the rest of the group  but I pointed out a window and said   Hey  that car's on fire!  and when they all looked  I ate the rest.I'll pay for this. Karma  she's always watching.Anyway  those the jam. Tostones were solid  but I prefer El Oriental's take. Yucca fries suffered from the take out timeframe - they soften so quickly! I mean  whatever - I saw my next girlfriend the moment they lifted the lid.Chicharrones  will you take this rose? First impression is underwhelming food smallish miserable portions (the kind that count the spoons of rice they serve no place in a dominican restaurant which are after all in this setting supposed to be cheap eats after all). This is not a good look for you Delicias you can do better. The Cativias were delicious but way overpriced at $4.00 for the meat or chicken ones more for the seafood ones. So I would say they are cost prohibitive. The guy there went on about how they were labor intensive and whatnot... NO! Way too expensive brougham get it right $2.50 tops for that. I had high expectations of this place  as I have been to Delicias in Hyde Park. I purchased tostones with chicharrón. They sent me off with just tostones. I returned and got the chicharrón. The tostones were undercooked  not well mashed and not crispy. The chicharrón was all fat. I was charged $15 for this meal. My friend purchased the rice and beans  the rice was hard and flavorless. When I went in there a little after 12  the food wasn't ready and what was ready was cold. The staff did not know what food was being made. The food was labeled incorrectly.I am overall very disappointed in the service and quality of food.\", finished_unigrams=['great', 'spot', 'lunch', 'food', 'delicious', 'fresh', 'super', 'generous', 'portion', 'rice', 'chicken', 'stew', 'could', 'feed', 'two', 'beef', 'empanadas', 'amazing', 'juicy', 'love', 'papaya', 'smoothie', 'thing', 'initially', 'make', 'hesitate', 'even', 'order', 'clinical', 'smell', 'chemical', 'clean', 'stuff', 'interior', 'isnt', 'invite', 'eat', 'quite', 'cozy', 'perfect', 'take', 'pork', 'mofongo', 'bring', 'tear', 'eye', 'literallylike', 'good', 'mofongo', 'weve', 'ever', 'hadlets', 'go', 'back', 'begin', 'im', 'peruse', 'local', 'jp', 'facebook', 'page', 'see', 'post', 'new', 'dominican', 'restaurant', 'open', 'main', 'drag', 'jp', 'fiance', 'town', 'aside', 'always', 'get', 'sushi', 'like', 'eat', 'mofongo', 'good', 'mofongo', 'mean', 'well', 'eat', 'anything', 'reallybut', 'cant', 'pass', 'place', 'mofongo', 'oxtailinitially', 'walk', 'past', 'way', 'get', 'breakfast', 'another', 'spot', 'stop', 'first', 'get', 'menu', 'know', 'well', 'back', 'dinner', 'welp', 'try', 'empanadas', 'natch', 'fantastic', 'light', 'hot', 'crispy', 'big', 'spinachcheese', 'beef', 'empanadas', 'perfect', 'little', 'parcel', 'way', 'breakfast', 'people', 'super', 'friendly', 'albeit', 'skeptical', 'say', 'would', 'return', 'dinnerpm', 'nose', 'arrive', 'door', 'eager', 'order', 'mofongo', 'package', 'oxtail', 'bean', 'rice', 'little', 'side', 'salad', 'ready', 'go', 'chat', 'sarah', 'awesome', 'smart', 'staff', 'work', 'life', 'school', 'make', 'mofongo', 'fresh', 'idk', 'maybe', 'minute', 'late', 'steam', 'mofongo', 'come', 'place', 'container', 'go', 'merry', 'waysmells', 'glorious', 'mouth', 'water', 'open', 'container', 'minute', 'late', 'home', 'holy', 'amazing', 'delicious', 'juicy', 'mofongo', 'moist', 'fatty', 'crispy', 'pork', 'crackle', 'fantastic', 'flavour', 'salty', 'cant', 'stress', 'enough', 'glorious', 'come', 'little', 'container', 'golden', 'deliciousness', 'usually', 'mofongo', 'either', 'drench', 'garlic', 'butter', 'get', 'container', 'garlic', 'butter', 'side', 'smell', 'like', 'youre', 'try', 'ward', 'vampire', 'week', 'glorious', 'juicy', 'parcelresplendent', 'soupcon', 'garlic', 'butter', 'broth', 'perfect', 'accompaniment', 'literally', 'anything', 'planet', 'perfect', 'marriage', 'mofongo', 'must', 'capitalize', 'mofongo', 'mofongo', 'rule', 'justdo', 'itnot', 'outdone', 'also', 'order', 'oxtail', 'ive', 'fair', 'share', 'oxtail', 'stew', 'different', 'region', 'world', 'rarely', 'one', 'complex', 'flavour', 'perhaps', 'tomatoey', 'base', 'full', 'spice', 'flavour', 'juicy', 'tender', 'meat', 'generous', 'help', 'stewsauce', 'accompany', 'straight', 'mama', 'cook', 'rice', 'bean', 'im', 'always', 'honest', 'review', 'oxtailrice', 'bean', 'bit', 'cold', 'notice', 'absolutely', 'gulp', 'everything', 'quickly', 'briefly', 'break', 'exclaim', 'perfect', 'meal', 'less', 'people', 'happy', 'leave', 'generous', 'tip', 'back', 'foodlook', 'sell', 'stew', 'mushroom', 'dish', 'okra', 'hate', 'item', 'delicias', 'make', 'id', 'eat', 'themgo', 'go', 'go', 'go', 'please', 'dont', 'wait', 'want', 'around', 'forever', 'child', 'need', 'mofongo', 'stop', 'pick', 'tostones', 'yuca', 'fry', 'chicharones', 'party', 'food', 'great', 'youll', 'definitely', 'get', 'mayonnaise', 'dip', 'sauce', 'elevate', 'three', 'dish', 'already', 'delicious', 'begin', 'freshly', 'make', 'order', 'everything', 'satisfy', 'crunch', 'taste', 'would', 'bring', 'party', 'really', 'like', 'place', 'owner', 'son', 'original', 'owner', 'good', 'great', 'job', 'cater', 'different', 'jp', 'community', 'veg', 'option', 'think', 'really', 'good', 'keep', 'good', 'work', 'star', 'food', 'star', 'service', 'let', 'go', 'detailas', 'another', 'reviewer', 'state', 'pork', 'mofongo', 'heavenly', 'mean', 'really', 'one', 'good', 'taste', 'dish', 'eat', 'long', 'time', 'crispy', 'salty', 'fill', 'pair', 'really', 'well', 'garlicky', 'sauce', 'come', 'think', 'garlic', 'someone', 'else', 'correct', 'really', 'center', 'piece', 'meal', 'guarantee', 'repeat', 'businessi', 'also', 'order', 'two', 'chicken', 'cheese', 'empanadas', 'imagine', 'would', 'good', 'actually', 'receive', 'label', 'must', 'switch', 'around', 'point', 'tray', 'say', 'chicken', 'cheese', 'audibly', 'ask', 'chicken', 'cheese', 'first', 'bite', 'home', 'ground', 'beef', 'worry', 'freakin', 'delicious', 'order', 'person', 'serve', 'didnt', 'seem', 'know', 'difference', 'silver', 'line', 'pay', 'chicken', 'empanadas', 'slightly', 'cheaperfinally', 'really', 'want', 'try', 'stew', 'oxtail', 'order', 'small', 'rice', 'server', 'start', 'scoop', 'stew', 'beef', 'stop', 'iterated', 'want', 'oxtail', 'say', 'oh', 'sorry', 'stare', 'stew', 'meat', 'second', 'resume', 'scoop', 'beef', 'try', 'specify', 'mean', 'oxtail', 'inform', 'none', 'leave', 'problem', 'would', 'save', 'interrupt', 'tell', 'first', 'place', 'come', 'time', 'pay', 'server', 'seem', 'endlessly', 'tap', 'away', 'canceling', 'item', 'register', 'dont', 'know', 'give', 'nervous', 'laugh', 'apology', 'notice', 'empanadas', 'still', 'sit', 'counter', 'ask', 'seem', 'forget', 'order', 'point', 'line', 'form', 'nobody', 'else', 'man', 'food', 'station', 'want', 'get', 'transaction', 'get', 'home', 'total', 'ring', 'absolutely', 'mistake', 'mofongo', 'wasnt', 'even', 'list', 'stew', 'chicken', 'instead', 'two', 'empanadas', 'ring', 'even', 'though', 'menu', 'show', 'small', 'stew', 'beef', 'ring', 'large', 'four', 'slice', 'beef', 'way', 'accidentally', 'get', 'large', 'moment', 'embarrassment', 'want', 'try', 'transaction', 'take', 'least', 'minute', 'point', 'pay', 'leftam', 'piss', 'overpay', 'absolutely', 'whatever', 'wont', 'buy', 'coffee', 'week', 'make', 'food', 'amazing', 'ungodly', 'degree', 'bet', 'give', 'try', 'point', 'advice', 'dont', 'go', 'hour', 'half', 'close', 'make', 'sure', 'receipt', 'correct', 'wow', 'great', 'find', 'clean', 'good', 'light', 'inside', 'excellent', 'service', 'wonderful', 'couple', 'run', 'place', 'go', 'yuca', 'frita', 'salsa', 'happy', 'sit', 'window', 'munch', 'away', 'watch', 'world', 'pass', 'dont', 'overlook', 'place', 'neighborhood', 'wife', 'go', 'delicias', 'dinner', 'even', 'blow', 'away', 'food', 'weve', 'eat', 'almost', 'every', 'restaurant', 'centre', 'street', 'delicias', 'may', 'new', 'favorite', 'portion', 'also', 'huge', 'great', 'youre', 'big', 'guy', 'like', 'suggestion', 'management', 'make', 'menu', 'little', 'clear', 'little', 'confused', 'lunch', 'vs', 'dinner', 'option', 'keep', 'first', 'visit', 'establishment', 'jamaica', 'plain', 'good', 'first', 'impression', 'person', 'behind', 'counter', 'friendly', 'cheerful', 'restaurant', 'clean', 'well', 'organize', 'wife', 'trifongo', 'pernil', 'sandwich', 'good', 'tasty', 'price', 'fair', 'area', 'definitely', 'go', 'back', 'doesnt', 'love', 'good', 'dominican', 'restaurant', 'delicias', 'express', 'great', 'find', 'jp', 'yellow', 'rice', 'eggplant', 'salad', 'good', 'wasnt', 'expect', 'eggplant', 'thick', 'sauce', 'flavorful', 'portion', 'plentiful', 'price', 'also', 'love', 'restaurant', 'try', 'reduce', 'food', 'waste', 'service', 'helpful', 'pleasant', 'plenty', 'street', 'park', 'available', 'least', 'go', 'look', 'forward', 'try', 'offerings', 'wtf', 'call', 'stew', 'steak', 'slice', 'cucumber', 'slice', 'meat', 'bunch', 'white', 'rice', 'bland', 'didnt', 'meat', 'eithernever', 'delicious', 'dominican', 'food', 'get', 'yellow', 'rice', 'chicken', 'stew', 'side', 'yucca', 'fry', 'everything', 'taste', 'home', 'cook', 'delicious', 'especially', 'chicken', 'well', 'season', 'tender', 'rice', 'nice', 'oily', 'also', 'appreciate', 'wasnt', 'overly', 'salty', 'also', 'get', 'guava', 'juice', 'tasty', 'disagree', 'say', 'portion', 'small', 'give', 'generous', 'serve', 'rice', 'chicken', 'great', 'local', 'jp', 'spot', 'veggie', 'burger', 'first', 'visit', 'well', 'many', 'ive', 'want', 'try', 'vegan', 'blt', 'soon', 'friend', 'tell', 'yuca', 'fry', 'great', 'many', 'great', 'new', 'food', 'option', 'central', 'jp', 'im', 'glad', 'one', 'work', 'jp', 'day', 'week', 'come', 'spot', 'lunch', 'almost', 'much', 'never', 'get', 'old', 'always', 'fresh', 'always', 'hot', 'always', 'hot', 'spot', 'cannot', 'recommend', 'enough', 'anyone', 'want', 'authentic', 'dominican', 'foodor', 'hungry', 'person', 'general', 'much', 'love', 'folk', 'food', 'delicious', 'food', 'family', 'run', 'establishment', 'new', 'favorite', 'place', 'grab', 'quick', 'hearty', 'lunch', 'rice', 'bean', 'stew', 'beef', 'oxtail', 'salad', 'love', 'spot', 'im', 'definitely', 'come', 'back', 'soon', 'chicharron', 'fry', 'plaintains', 'pork', 'mofongo', 'yuca', 'fry', 'delicious', 'customer', 'service', 'friendly', 'restaurant', 'family', 'youre', 'mood', 'dominicanlatin', 'food', 'youre', 'gonna', 'want', 'stop', 'delicias', 'friendly', 'staff', 'tasty', 'food', 'highly', 'recommend', 'pork', 'mofongo', 'make', 'order', 'stew', 'chicken', 'andor', 'eggplant', 'yellow', 'rice', 'empanadas', 'also', 'solid', 'bet', 'large', 'physically', 'heavy', 'portion', 'lot', 'want', 'local', 'fast', 'casual', 'spot', 'aside', 'use', 'styrofoam', 'coolcant', 'wait', 'try', 'smoothy', 'papaya', 'mango', 'call', 'name', 'great', 'vegetarian', 'dinner', 'order', 'veggie', 'monfongo', 'great', 'huge', 'portion', 'allow', 'leave', 'husband', 'love', 'freshly', 'make', 'taste', 'difference', 'also', 'corn', 'pudding', 'super', 'toothe', 'staff', 'helpful', 'explain', 'menu', 'nice', 'friendly', 'place', 'come', 'first', 'time', 'food', 'order', 'staff', 'extremely', 'friendly', 'pile', 'food', 'high', 'good', 'bring', 'friend', 'next', 'time', 'try', 'fast', 'service', 'delicious', 'chicken', 'pork', 'chop', 'simple', 'menu', 'location', 'roslindale', 'good', 'monfongo', 'great', 'food', 'large', 'portion', 'amazing', 'people', 'one', 'favorite', 'centre', 'st', 'try', 'stew', 'chicken', 'rice', 'bean', 'side', 'yuca', 'fry', 'pia', 'coladas', 'also', 'super', 'tasty', 'empanadas', 'good', 'management', 'stellar', 'order', 'empanadas', 'event', 'even', 'though', 'flood', 'day', 'basically', 'close', 'make', 'sure', 'order', 'fresh', 'wait', 'grateful', 'delicious', 'friend', 'bring', 'takeout', 'book', 'club', 'book', 'lose', 'really', 'excuse', 'dominican', 'food', 'amiriteanway', 'let', 'start', 'absolute', 'star', 'plate', 'side', 'chicharronesexquisitely', 'render', 'heavily', 'salt', 'huge', 'chunk', 'include', 'bone', 'skin', 'fat', 'hoooo', 'boy', 'legit', 'suppose', 'share', 'rest', 'group', 'point', 'window', 'say', 'hey', 'car', 'fire', 'look', 'eat', 'restill', 'pay', 'karma', 'shes', 'always', 'watchinganyway', 'jam', 'tostones', 'solid', 'prefer', 'el', 'oriental', 'take', 'yucca', 'fry', 'suffer', 'take', 'timeframe', 'soften', 'quickly', 'mean', 'whatever', 'see', 'next', 'girlfriend', 'moment', 'lift', 'lidchicharrones', 'take', 'rise', 'first', 'impression', 'underwhelming', 'food', 'smallish', 'miserable', 'portion', 'kind', 'count', 'spoon', 'rice', 'serve', 'place', 'dominican', 'restaurant', 'set', 'suppose', 'cheap', 'eat', 'good', 'look', 'delicias', 'well', 'cativias', 'delicious', 'way', 'overpriced', 'meat', 'chicken', 'one', 'seafood', 'one', 'would', 'say', 'cost', 'prohibitive', 'guy', 'go', 'labor', 'intensive', 'whatnot', 'way', 'expensive', 'brougham', 'get', 'right', 'top', 'high', 'expectation', 'place', 'delicias', 'hyde', 'park', 'purchase', 'tostones', 'chicharrn', 'send', 'tostones', 'return', 'get', 'chicharrn', 'tostones', 'undercooked', 'well', 'mash', 'crispy', 'chicharrn', 'fat', 'charge', 'meal', 'friend', 'purchase', 'rice', 'bean', 'rice', 'hard', 'flavorless', 'go', 'little', 'food', 'wasnt', 'ready', 'ready', 'cold', 'staff', 'know', 'food', 'make', 'food', 'label', 'incorrectlyi', 'overall', 'disappointed', 'service', 'quality', 'food'], finished_ngrams=['great', 'spot', 'lunch', 'food', 'delicious', 'fresh', 'super', 'generous', 'portion', 'rice', 'chicken', 'stew', 'could', 'feed', 'two', 'beef', 'empanadas', 'amazing', 'juicy', 'love', 'papaya', 'smoothie', 'thing', 'initially', 'make', 'hesitate', 'even', 'order', 'clinical', 'smell', 'chemical', 'clean', 'stuff', 'interior', 'isnt', 'invite', 'eat', 'quite', 'cozy', 'perfect', 'take', 'pork', 'mofongo', 'bring', 'tear', 'eye', 'literallylike', 'good', 'mofongo', 'weve', 'ever', 'hadlets', 'go', 'back', 'begin', 'im', 'peruse', 'local', 'jp', 'facebook', 'page', 'see', 'post', 'new', 'dominican', 'restaurant', 'open', 'main', 'drag', 'jp', 'fiance', 'town', 'aside', 'always', 'get', 'sushi', 'like', 'eat', 'mofongo', 'good', 'mofongo', 'mean', 'well', 'eat', 'anything', 'reallybut', 'cant', 'pass', 'place', 'mofongo', 'oxtailinitially', 'walk', 'past', 'way', 'get', 'breakfast', 'another', 'spot', 'stop', 'first', 'get', 'menu', 'know', 'well', 'back', 'dinner', 'welp', 'try', 'empanadas', 'natch', 'fantastic', 'light', 'hot', 'crispy', 'big', 'spinachcheese', 'beef', 'empanadas', 'perfect', 'little', 'parcel', 'way', 'breakfast', 'people', 'super', 'friendly', 'albeit', 'skeptical', 'say', 'would', 'return', 'dinnerpm', 'nose', 'arrive', 'door', 'eager', 'order', 'mofongo', 'package', 'oxtail', 'bean', 'rice', 'little', 'side', 'salad', 'ready', 'go', 'chat', 'sarah', 'awesome', 'smart', 'staff', 'work', 'life', 'school', 'make', 'mofongo', 'fresh', 'idk', 'maybe', 'minute', 'late', 'steam', 'mofongo', 'come', 'place', 'container', 'go', 'merry', 'waysmells', 'glorious', 'mouth', 'water', 'open', 'container', 'minute', 'late', 'home', 'holy', 'amazing', 'delicious', 'juicy', 'mofongo', 'moist', 'fatty', 'crispy', 'pork', 'crackle', 'fantastic', 'flavour', 'salty', 'cant', 'stress', 'enough', 'glorious', 'come', 'little', 'container', 'golden', 'deliciousness', 'usually', 'mofongo', 'either', 'drench', 'garlic', 'butter', 'get', 'container', 'garlic', 'butter', 'side', 'smell', 'like', 'youre', 'try', 'ward', 'vampire', 'week', 'glorious', 'juicy', 'parcelresplendent', 'soupcon', 'garlic', 'butter', 'broth', 'perfect', 'accompaniment', 'literally', 'anything', 'planet', 'perfect', 'marriage', 'mofongo', 'must', 'capitalize', 'mofongo', 'mofongo', 'rule', 'justdo', 'itnot', 'outdone', 'also', 'order', 'oxtail', 'ive', 'fair', 'share', 'oxtail', 'stew', 'different', 'region', 'world', 'rarely', 'one', 'complex', 'flavour', 'perhaps', 'tomatoey', 'base', 'full', 'spice', 'flavour', 'juicy', 'tender', 'meat', 'generous', 'help', 'stewsauce', 'accompany', 'straight', 'mama', 'cook', 'rice', 'bean', 'im', 'always', 'honest', 'review', 'oxtailrice', 'bean', 'bit', 'cold', 'notice', 'absolutely', 'gulp', 'everything', 'quickly', 'briefly', 'break', 'exclaim', 'perfect', 'meal', 'less', 'people', 'happy', 'leave', 'generous', 'tip', 'back', 'foodlook', 'sell', 'stew', 'mushroom', 'dish', 'okra', 'hate', 'item', 'delicias', 'make', 'id', 'eat', 'themgo', 'go', 'go', 'go', 'please', 'dont', 'wait', 'want', 'around', 'forever', 'child', 'need', 'mofongo', 'stop', 'pick', 'tostones', 'yuca', 'fry', 'chicharones', 'party', 'food', 'great', 'youll', 'definitely', 'get', 'mayonnaise', 'dip', 'sauce', 'elevate', 'three', 'dish', 'already', 'delicious', 'begin', 'freshly', 'make', 'order', 'everything', 'satisfy', 'crunch', 'taste', 'would', 'bring', 'party', 'really', 'like', 'place', 'owner', 'son', 'original', 'owner', 'good', 'great', 'job', 'cater', 'different', 'jp', 'community', 'veg', 'option', 'think', 'really', 'good', 'keep', 'good', 'work', 'star', 'food', 'star', 'service', 'let', 'go', 'detailas', 'another', 'reviewer', 'state', 'pork', 'mofongo', 'heavenly', 'mean', 'really', 'one', 'good', 'taste', 'dish', 'eat', 'long', 'time', 'crispy', 'salty', 'fill', 'pair', 'really', 'well', 'garlicky', 'sauce', 'come', 'think', 'garlic', 'someone', 'else', 'correct', 'really', 'center', 'piece', 'meal', 'guarantee', 'repeat', 'businessi', 'also', 'order', 'two', 'chicken', 'cheese', 'empanadas', 'imagine', 'would', 'good', 'actually', 'receive', 'label', 'must', 'switch', 'around', 'point', 'tray', 'say', 'chicken', 'cheese', 'audibly', 'ask', 'chicken', 'cheese', 'first', 'bite', 'home', 'ground', 'beef', 'worry', 'freakin', 'delicious', 'order', 'person', 'serve', 'didnt', 'seem', 'know', 'difference', 'silver', 'line', 'pay', 'chicken', 'empanadas', 'slightly', 'cheaperfinally', 'really', 'want', 'try', 'stew', 'oxtail', 'order', 'small', 'rice', 'server', 'start', 'scoop', 'stew', 'beef', 'stop', 'iterated', 'want', 'oxtail', 'say', 'oh', 'sorry', 'stare', 'stew', 'meat', 'second', 'resume', 'scoop', 'beef', 'try', 'specify', 'mean', 'oxtail', 'inform', 'none', 'leave', 'problem', 'would', 'save', 'interrupt', 'tell', 'first', 'place', 'come', 'time', 'pay', 'server', 'seem', 'endlessly', 'tap', 'away', 'canceling', 'item', 'register', 'dont', 'know', 'give', 'nervous', 'laugh', 'apology', 'notice', 'empanadas', 'still', 'sit', 'counter', 'ask', 'seem', 'forget', 'order', 'point', 'line', 'form', 'nobody', 'else', 'man', 'food', 'station', 'want', 'get', 'transaction', 'get', 'home', 'total', 'ring', 'absolutely', 'mistake', 'mofongo', 'wasnt', 'even', 'list', 'stew', 'chicken', 'instead', 'two', 'empanadas', 'ring', 'even', 'though', 'menu', 'show', 'small', 'stew', 'beef', 'ring', 'large', 'four', 'slice', 'beef', 'way', 'accidentally', 'get', 'large', 'moment', 'embarrassment', 'want', 'try', 'transaction', 'take', 'least', 'minute', 'point', 'pay', 'leftam', 'piss', 'overpay', 'absolutely', 'whatever', 'wont', 'buy', 'coffee', 'week', 'make', 'food', 'amazing', 'ungodly', 'degree', 'bet', 'give', 'try', 'point', 'advice', 'dont', 'go', 'hour', 'half', 'close', 'make', 'sure', 'receipt', 'correct', 'wow', 'great', 'find', 'clean', 'good', 'light', 'inside', 'excellent', 'service', 'wonderful', 'couple', 'run', 'place', 'go', 'yuca', 'frita', 'salsa', 'happy', 'sit', 'window', 'munch', 'away', 'watch', 'world', 'pass', 'dont', 'overlook', 'place', 'neighborhood', 'wife', 'go', 'delicias', 'dinner', 'even', 'blow', 'away', 'food', 'weve', 'eat', 'almost', 'every', 'restaurant', 'centre', 'street', 'delicias', 'may', 'new', 'favorite', 'portion', 'also', 'huge', 'great', 'youre', 'big', 'guy', 'like', 'suggestion', 'management', 'make', 'menu', 'little', 'clear', 'little', 'confused', 'lunch', 'vs', 'dinner', 'option', 'keep', 'first', 'visit', 'establishment', 'jamaica', 'plain', 'good', 'first', 'impression', 'person', 'behind', 'counter', 'friendly', 'cheerful', 'restaurant', 'clean', 'well', 'organize', 'wife', 'trifongo', 'pernil', 'sandwich', 'good', 'tasty', 'price', 'fair', 'area', 'definitely', 'go', 'back', 'doesnt', 'love', 'good', 'dominican', 'restaurant', 'delicias', 'express', 'great', 'find', 'jp', 'yellow', 'rice', 'eggplant', 'salad', 'good', 'wasnt', 'expect', 'eggplant', 'thick', 'sauce', 'flavorful', 'portion', 'plentiful', 'price', 'also', 'love', 'restaurant', 'try', 'reduce', 'food', 'waste', 'service', 'helpful', 'pleasant', 'plenty', 'street', 'park', 'available', 'least', 'go', 'look', 'forward', 'try', 'offerings', 'wtf', 'call', 'stew', 'steak', 'slice', 'cucumber', 'slice', 'meat', 'bunch', 'white', 'rice', 'bland', 'didnt', 'meat', 'eithernever', 'delicious', 'dominican', 'food', 'get', 'yellow', 'rice', 'chicken', 'stew', 'side', 'yucca', 'fry', 'everything', 'taste', 'home', 'cook', 'delicious', 'especially', 'chicken', 'well', 'season', 'tender', 'rice', 'nice', 'oily', 'also', 'appreciate', 'wasnt', 'overly', 'salty', 'also', 'get', 'guava', 'juice', 'tasty', 'disagree', 'say', 'portion', 'small', 'give', 'generous', 'serve', 'rice', 'chicken', 'great', 'local', 'jp', 'spot', 'veggie', 'burger', 'first', 'visit', 'well', 'many', 'ive', 'want', 'try', 'vegan', 'blt', 'soon', 'friend', 'tell', 'yuca', 'fry', 'great', 'many', 'great', 'new', 'food', 'option', 'central', 'jp', 'im', 'glad', 'one', 'work', 'jp', 'day', 'week', 'come', 'spot', 'lunch', 'almost', 'much', 'never', 'get', 'old', 'always', 'fresh', 'always', 'hot', 'always', 'hot', 'spot', 'cannot', 'recommend', 'enough', 'anyone', 'want', 'authentic', 'dominican', 'foodor', 'hungry', 'person', 'general', 'much', 'love', 'folk', 'food', 'delicious', 'food', 'family', 'run', 'establishment', 'new', 'favorite', 'place', 'grab', 'quick', 'hearty', 'lunch', 'rice', 'bean', 'stew', 'beef', 'oxtail', 'salad', 'love', 'spot', 'im', 'definitely', 'come', 'back', 'soon', 'chicharron', 'fry', 'plaintains', 'pork', 'mofongo', 'yuca', 'fry', 'delicious', 'customer', 'service', 'friendly', 'restaurant', 'family', 'youre', 'mood', 'dominicanlatin', 'food', 'youre', 'gonna', 'want', 'stop', 'delicias', 'friendly', 'staff', 'tasty', 'food', 'highly', 'recommend', 'pork', 'mofongo', 'make', 'order', 'stew', 'chicken', 'andor', 'eggplant', 'yellow', 'rice', 'empanadas', 'also', 'solid', 'bet', 'large', 'physically', 'heavy', 'portion', 'lot', 'want', 'local', 'fast', 'casual', 'spot', 'aside', 'use', 'styrofoam', 'coolcant', 'wait', 'try', 'smoothy', 'papaya', 'mango', 'call', 'name', 'great', 'vegetarian', 'dinner', 'order', 'veggie', 'monfongo', 'great', 'huge', 'portion', 'allow', 'leave', 'husband', 'love', 'freshly', 'make', 'taste', 'difference', 'also', 'corn', 'pudding', 'super', 'toothe', 'staff', 'helpful', 'explain', 'menu', 'nice', 'friendly', 'place', 'come', 'first', 'time', 'food', 'order', 'staff', 'extremely', 'friendly', 'pile', 'food', 'high', 'good', 'bring', 'friend', 'next', 'time', 'try', 'fast', 'service', 'delicious', 'chicken', 'pork', 'chop', 'simple', 'menu', 'location', 'roslindale', 'good', 'monfongo', 'great', 'food', 'large', 'portion', 'amazing', 'people', 'one', 'favorite', 'centre', 'st', 'try', 'stew', 'chicken', 'rice', 'bean', 'side', 'yuca', 'fry', 'pia', 'coladas', 'also', 'super', 'tasty', 'empanadas', 'good', 'management', 'stellar', 'order', 'empanadas', 'event', 'even', 'though', 'flood', 'day', 'basically', 'close', 'make', 'sure', 'order', 'fresh', 'wait', 'grateful', 'delicious', 'friend', 'bring', 'takeout', 'book', 'club', 'book', 'lose', 'really', 'excuse', 'dominican', 'food', 'amiriteanway', 'let', 'start', 'absolute', 'star', 'plate', 'side', 'chicharronesexquisitely', 'render', 'heavily', 'salt', 'huge', 'chunk', 'include', 'bone', 'skin', 'fat', 'hoooo', 'boy', 'legit', 'suppose', 'share', 'rest', 'group', 'point', 'window', 'say', 'hey', 'car', 'fire', 'look', 'eat', 'restill', 'pay', 'karma', 'shes', 'always', 'watchinganyway', 'jam', 'tostones', 'solid', 'prefer', 'el', 'oriental', 'take', 'yucca', 'fry', 'suffer', 'take', 'timeframe', 'soften', 'quickly', 'mean', 'whatever', 'see', 'next', 'girlfriend', 'moment', 'lift', 'lidchicharrones', 'take', 'rise', 'first', 'impression', 'underwhelming', 'food', 'smallish', 'miserable', 'portion', 'kind', 'count', 'spoon', 'rice', 'serve', 'place', 'dominican', 'restaurant', 'set', 'suppose', 'cheap', 'eat', 'good', 'look', 'delicias', 'well', 'cativias', 'delicious', 'way', 'overpriced', 'meat', 'chicken', 'one', 'seafood', 'one', 'would', 'say', 'cost', 'prohibitive', 'guy', 'go', 'labor', 'intensive', 'whatnot', 'way', 'expensive', 'brougham', 'get', 'right', 'top', 'high', 'expectation', 'place', 'delicias', 'hyde', 'park', 'purchase', 'tostones', 'chicharrn', 'send', 'tostones', 'return', 'get', 'chicharrn', 'tostones', 'undercooked', 'well', 'mash', 'crispy', 'chicharrn', 'fat', 'charge', 'meal', 'friend', 'purchase', 'rice', 'bean', 'rice', 'hard', 'flavorless', 'go', 'little', 'food', 'wasnt', 'ready', 'ready', 'cold', 'staff', 'know', 'food', 'make', 'food', 'label', 'incorrectlyi', 'overall', 'disappointed', 'service', 'quality', 'food', 'great_spot', 'spot_lunch', 'lunch_food', 'food_delicious', 'delicious_fresh', 'fresh_super', 'super_generous', 'generous_portion', 'portion_rice', 'rice_chicken', 'chicken_stew', 'stew_could', 'could_feed', 'feed_two', 'two_beef', 'beef_empanadas', 'empanadas_amazing', 'amazing_juicy', 'juicy_love', 'love_papaya', 'papaya_smoothie', 'smoothie_thing', 'thing_initially', 'initially_make', 'make_hesitate', 'hesitate_even', 'even_order', 'order_clinical', 'clinical_smell', 'smell_chemical', 'chemical_clean', 'clean_stuff', 'stuff_interior', 'interior_isnt', 'isnt_invite', 'invite_eat', 'eat_quite', 'quite_cozy', 'cozy_perfect', 'perfect_take', 'take_pork', 'pork_mofongo', 'mofongo_bring', 'bring_tear', 'tear_eye', 'eye_literallylike', 'literallylike_good', 'good_mofongo', 'mofongo_weve', 'weve_ever', 'ever_hadlets', 'hadlets_go', 'go_back', 'back_begin', 'begin_im', 'im_peruse', 'peruse_local', 'local_jp', 'jp_facebook', 'facebook_page', 'page_see', 'see_post', 'post_new', 'new_dominican', 'dominican_restaurant', 'restaurant_open', 'open_main', 'main_drag', 'drag_jp', 'jp_fiance', 'fiance_town', 'town_aside', 'aside_always', 'always_get', 'get_sushi', 'sushi_like', 'like_eat', 'eat_mofongo', 'mofongo_good', 'good_mofongo', 'mofongo_mean', 'mean_well', 'well_eat', 'eat_anything', 'anything_reallybut', 'reallybut_cant', 'cant_pass', 'pass_place', 'place_mofongo', 'mofongo_oxtailinitially', 'oxtailinitially_walk', 'walk_past', 'past_way', 'way_get', 'get_breakfast', 'breakfast_another', 'another_spot', 'spot_stop', 'stop_first', 'first_get', 'get_menu', 'menu_know', 'know_well', 'well_back', 'back_dinner', 'dinner_welp', 'welp_try', 'try_empanadas', 'empanadas_natch', 'natch_fantastic', 'fantastic_light', 'light_hot', 'hot_crispy', 'crispy_big', 'big_spinachcheese', 'spinachcheese_beef', 'beef_empanadas', 'empanadas_perfect', 'perfect_little', 'little_parcel', 'parcel_way', 'way_breakfast', 'breakfast_people', 'people_super', 'super_friendly', 'friendly_albeit', 'albeit_skeptical', 'skeptical_say', 'say_would', 'would_return', 'return_dinnerpm', 'dinnerpm_nose', 'nose_arrive', 'arrive_door', 'door_eager', 'eager_order', 'order_mofongo', 'mofongo_package', 'package_oxtail', 'oxtail_bean', 'bean_rice', 'rice_little', 'little_side', 'side_salad', 'salad_ready', 'ready_go', 'go_chat', 'chat_sarah', 'sarah_awesome', 'awesome_smart', 'smart_staff', 'staff_work', 'work_life', 'life_school', 'school_make', 'make_mofongo', 'mofongo_fresh', 'fresh_idk', 'idk_maybe', 'maybe_minute', 'minute_late', 'late_steam', 'steam_mofongo', 'mofongo_come', 'come_place', 'place_container', 'container_go', 'go_merry', 'merry_waysmells', 'waysmells_glorious', 'glorious_mouth', 'mouth_water', 'water_open', 'open_container', 'container_minute', 'minute_late', 'late_home', 'home_holy', 'holy_amazing', 'amazing_delicious', 'delicious_juicy', 'juicy_mofongo', 'mofongo_moist', 'moist_fatty', 'fatty_crispy', 'crispy_pork', 'pork_crackle', 'crackle_fantastic', 'fantastic_flavour', 'flavour_salty', 'salty_cant', 'cant_stress', 'stress_enough', 'enough_glorious', 'glorious_come', 'come_little', 'little_container', 'container_golden', 'golden_deliciousness', 'deliciousness_usually', 'usually_mofongo', 'mofongo_either', 'either_drench', 'drench_garlic', 'garlic_butter', 'butter_get', 'get_container', 'container_garlic', 'garlic_butter', 'butter_side', 'side_smell', 'smell_like', 'like_youre', 'youre_try', 'try_ward', 'ward_vampire', 'vampire_week', 'week_glorious', 'glorious_juicy', 'juicy_parcelresplendent', 'parcelresplendent_soupcon', 'soupcon_garlic', 'garlic_butter', 'butter_broth', 'broth_perfect', 'perfect_accompaniment', 'accompaniment_literally', 'literally_anything', 'anything_planet', 'planet_perfect', 'perfect_marriage', 'marriage_mofongo', 'mofongo_must', 'must_capitalize', 'capitalize_mofongo', 'mofongo_mofongo', 'mofongo_rule', 'rule_justdo', 'justdo_itnot', 'itnot_outdone', 'outdone_also', 'also_order', 'order_oxtail', 'oxtail_ive', 'ive_fair', 'fair_share', 'share_oxtail', 'oxtail_stew', 'stew_different', 'different_region', 'region_world', 'world_rarely', 'rarely_one', 'one_complex', 'complex_flavour', 'flavour_perhaps', 'perhaps_tomatoey', 'tomatoey_base', 'base_full', 'full_spice', 'spice_flavour', 'flavour_juicy', 'juicy_tender', 'tender_meat', 'meat_generous', 'generous_help', 'help_stewsauce', 'stewsauce_accompany', 'accompany_straight', 'straight_mama', 'mama_cook', 'cook_rice', 'rice_bean', 'bean_im', 'im_always', 'always_honest', 'honest_review', 'review_oxtailrice', 'oxtailrice_bean', 'bean_bit', 'bit_cold', 'cold_notice', 'notice_absolutely', 'absolutely_gulp', 'gulp_everything', 'everything_quickly', 'quickly_briefly', 'briefly_break', 'break_exclaim', 'exclaim_perfect', 'perfect_meal', 'meal_less', 'less_people', 'people_happy', 'happy_leave', 'leave_generous', 'generous_tip', 'tip_back', 'back_foodlook', 'foodlook_sell', 'sell_stew', 'stew_mushroom', 'mushroom_dish', 'dish_okra', 'okra_hate', 'hate_item', 'item_delicias', 'delicias_make', 'make_id', 'id_eat', 'eat_themgo', 'themgo_go', 'go_go', 'go_go', 'go_please', 'please_dont', 'dont_wait', 'wait_want', 'want_around', 'around_forever', 'forever_child', 'child_need', 'need_mofongo', 'mofongo_stop', 'stop_pick', 'pick_tostones', 'tostones_yuca', 'yuca_fry', 'fry_chicharones', 'chicharones_party', 'party_food', 'food_great', 'great_youll', 'youll_definitely', 'definitely_get', 'get_mayonnaise', 'mayonnaise_dip', 'dip_sauce', 'sauce_elevate', 'elevate_three', 'three_dish', 'dish_already', 'already_delicious', 'delicious_begin', 'begin_freshly', 'freshly_make', 'make_order', 'order_everything', 'everything_satisfy', 'satisfy_crunch', 'crunch_taste', 'taste_would', 'would_bring', 'bring_party', 'party_really', 'really_like', 'like_place', 'place_owner', 'owner_son', 'son_original', 'original_owner', 'owner_good', 'good_great', 'great_job', 'job_cater', 'cater_different', 'different_jp', 'jp_community', 'community_veg', 'veg_option', 'option_think', 'think_really', 'really_good', 'good_keep', 'keep_good', 'good_work', 'work_star', 'star_food', 'food_star', 'star_service', 'service_let', 'let_go', 'go_detailas', 'detailas_another', 'another_reviewer', 'reviewer_state', 'state_pork', 'pork_mofongo', 'mofongo_heavenly', 'heavenly_mean', 'mean_really', 'really_one', 'one_good', 'good_taste', 'taste_dish', 'dish_eat', 'eat_long', 'long_time', 'time_crispy', 'crispy_salty', 'salty_fill', 'fill_pair', 'pair_really', 'really_well', 'well_garlicky', 'garlicky_sauce', 'sauce_come', 'come_think', 'think_garlic', 'garlic_someone', 'someone_else', 'else_correct', 'correct_really', 'really_center', 'center_piece', 'piece_meal', 'meal_guarantee', 'guarantee_repeat', 'repeat_businessi', 'businessi_also', 'also_order', 'order_two', 'two_chicken', 'chicken_cheese', 'cheese_empanadas', 'empanadas_imagine', 'imagine_would', 'would_good', 'good_actually', 'actually_receive', 'receive_label', 'label_must', 'must_switch', 'switch_around', 'around_point', 'point_tray', 'tray_say', 'say_chicken', 'chicken_cheese', 'cheese_audibly', 'audibly_ask', 'ask_chicken', 'chicken_cheese', 'cheese_first', 'first_bite', 'bite_home', 'home_ground', 'ground_beef', 'beef_worry', 'worry_freakin', 'freakin_delicious', 'delicious_order', 'order_person', 'person_serve', 'serve_didnt', 'didnt_seem', 'seem_know', 'know_difference', 'difference_silver', 'silver_line', 'line_pay', 'pay_chicken', 'chicken_empanadas', 'empanadas_slightly', 'slightly_cheaperfinally', 'cheaperfinally_really', 'really_want', 'want_try', 'try_stew', 'stew_oxtail', 'oxtail_order', 'order_small', 'small_rice', 'rice_server', 'server_start', 'start_scoop', 'scoop_stew', 'stew_beef', 'beef_stop', 'stop_iterated', 'iterated_want', 'want_oxtail', 'oxtail_say', 'say_oh', 'oh_sorry', 'sorry_stare', 'stare_stew', 'stew_meat', 'meat_second', 'second_resume', 'resume_scoop', 'scoop_beef', 'beef_try', 'try_specify', 'specify_mean', 'mean_oxtail', 'oxtail_inform', 'inform_none', 'none_leave', 'leave_problem', 'problem_would', 'would_save', 'save_interrupt', 'interrupt_tell', 'tell_first', 'first_place', 'place_come', 'come_time', 'time_pay', 'pay_server', 'server_seem', 'seem_endlessly', 'endlessly_tap', 'tap_away', 'away_canceling', 'canceling_item', 'item_register', 'register_dont', 'dont_know', 'know_give', 'give_nervous', 'nervous_laugh', 'laugh_apology', 'apology_notice', 'notice_empanadas', 'empanadas_still', 'still_sit', 'sit_counter', 'counter_ask', 'ask_seem', 'seem_forget', 'forget_order', 'order_point', 'point_line', 'line_form', 'form_nobody', 'nobody_else', 'else_man', 'man_food', 'food_station', 'station_want', 'want_get', 'get_transaction', 'transaction_get', 'get_home', 'home_total', 'total_ring', 'ring_absolutely', 'absolutely_mistake', 'mistake_mofongo', 'mofongo_wasnt', 'wasnt_even', 'even_list', 'list_stew', 'stew_chicken', 'chicken_instead', 'instead_two', 'two_empanadas', 'empanadas_ring', 'ring_even', 'even_though', 'though_menu', 'menu_show', 'show_small', 'small_stew', 'stew_beef', 'beef_ring', 'ring_large', 'large_four', 'four_slice', 'slice_beef', 'beef_way', 'way_accidentally', 'accidentally_get', 'get_large', 'large_moment', 'moment_embarrassment', 'embarrassment_want', 'want_try', 'try_transaction', 'transaction_take', 'take_least', 'least_minute', 'minute_point', 'point_pay', 'pay_leftam', 'leftam_piss', 'piss_overpay', 'overpay_absolutely', 'absolutely_whatever', 'whatever_wont', 'wont_buy', 'buy_coffee', 'coffee_week', 'week_make', 'make_food', 'food_amazing', 'amazing_ungodly', 'ungodly_degree', 'degree_bet', 'bet_give', 'give_try', 'try_point', 'point_advice', 'advice_dont', 'dont_go', 'go_hour', 'hour_half', 'half_close', 'close_make', 'make_sure', 'sure_receipt', 'receipt_correct', 'correct_wow', 'wow_great', 'great_find', 'find_clean', 'clean_good', 'good_light', 'light_inside', 'inside_excellent', 'excellent_service', 'service_wonderful', 'wonderful_couple', 'couple_run', 'run_place', 'place_go', 'go_yuca', 'yuca_frita', 'frita_salsa', 'salsa_happy', 'happy_sit', 'sit_window', 'window_munch', 'munch_away', 'away_watch', 'watch_world', 'world_pass', 'pass_dont', 'dont_overlook', 'overlook_place', 'place_neighborhood', 'neighborhood_wife', 'wife_go', 'go_delicias', 'delicias_dinner', 'dinner_even', 'even_blow', 'blow_away', 'away_food', 'food_weve', 'weve_eat', 'eat_almost', 'almost_every', 'every_restaurant', 'restaurant_centre', 'centre_street', 'street_delicias', 'delicias_may', 'may_new', 'new_favorite', 'favorite_portion', 'portion_also', 'also_huge', 'huge_great', 'great_youre', 'youre_big', 'big_guy', 'guy_like', 'like_suggestion', 'suggestion_management', 'management_make', 'make_menu', 'menu_little', 'little_clear', 'clear_little', 'little_confused', 'confused_lunch', 'lunch_vs', 'vs_dinner', 'dinner_option', 'option_keep', 'keep_first', 'first_visit', 'visit_establishment', 'establishment_jamaica', 'jamaica_plain', 'plain_good', 'good_first', 'first_impression', 'impression_person', 'person_behind', 'behind_counter', 'counter_friendly', 'friendly_cheerful', 'cheerful_restaurant', 'restaurant_clean', 'clean_well', 'well_organize', 'organize_wife', 'wife_trifongo', 'trifongo_pernil', 'pernil_sandwich', 'sandwich_good', 'good_tasty', 'tasty_price', 'price_fair', 'fair_area', 'area_definitely', 'definitely_go', 'go_back', 'back_doesnt', 'doesnt_love', 'love_good', 'good_dominican', 'dominican_restaurant', 'restaurant_delicias', 'delicias_express', 'express_great', 'great_find', 'find_jp', 'jp_yellow', 'yellow_rice', 'rice_eggplant', 'eggplant_salad', 'salad_good', 'good_wasnt', 'wasnt_expect', 'expect_eggplant', 'eggplant_thick', 'thick_sauce', 'sauce_flavorful', 'flavorful_portion', 'portion_plentiful', 'plentiful_price', 'price_also', 'also_love', 'love_restaurant', 'restaurant_try', 'try_reduce', 'reduce_food', 'food_waste', 'waste_service', 'service_helpful', 'helpful_pleasant', 'pleasant_plenty', 'plenty_street', 'street_park', 'park_available', 'available_least', 'least_go', 'go_look', 'look_forward', 'forward_try', 'try_offerings', 'offerings_wtf', 'wtf_call', 'call_stew', 'stew_steak', 'steak_slice', 'slice_cucumber', 'cucumber_slice', 'slice_meat', 'meat_bunch', 'bunch_white', 'white_rice', 'rice_bland', 'bland_didnt', 'didnt_meat', 'meat_eithernever', 'eithernever_delicious', 'delicious_dominican', 'dominican_food', 'food_get', 'get_yellow', 'yellow_rice', 'rice_chicken', 'chicken_stew', 'stew_side', 'side_yucca', 'yucca_fry', 'fry_everything', 'everything_taste', 'taste_home', 'home_cook', 'cook_delicious', 'delicious_especially', 'especially_chicken', 'chicken_well', 'well_season', 'season_tender', 'tender_rice', 'rice_nice', 'nice_oily', 'oily_also', 'also_appreciate', 'appreciate_wasnt', 'wasnt_overly', 'overly_salty', 'salty_also', 'also_get', 'get_guava', 'guava_juice', 'juice_tasty', 'tasty_disagree', 'disagree_say', 'say_portion', 'portion_small', 'small_give', 'give_generous', 'generous_serve', 'serve_rice', 'rice_chicken', 'chicken_great', 'great_local', 'local_jp', 'jp_spot', 'spot_veggie', 'veggie_burger', 'burger_first', 'first_visit', 'visit_well', 'well_many', 'many_ive', 'ive_want', 'want_try', 'try_vegan', 'vegan_blt', 'blt_soon', 'soon_friend', 'friend_tell', 'tell_yuca', 'yuca_fry', 'fry_great', 'great_many', 'many_great', 'great_new', 'new_food', 'food_option', 'option_central', 'central_jp', 'jp_im', 'im_glad', 'glad_one', 'one_work', 'work_jp', 'jp_day', 'day_week', 'week_come', 'come_spot', 'spot_lunch', 'lunch_almost', 'almost_much', 'much_never', 'never_get', 'get_old', 'old_always', 'always_fresh', 'fresh_always', 'always_hot', 'hot_always', 'always_hot', 'hot_spot', 'spot_cannot', 'cannot_recommend', 'recommend_enough', 'enough_anyone', 'anyone_want', 'want_authentic', 'authentic_dominican', 'dominican_foodor', 'foodor_hungry', 'hungry_person', 'person_general', 'general_much', 'much_love', 'love_folk', 'folk_food', 'food_delicious', 'delicious_food', 'food_family', 'family_run', 'run_establishment', 'establishment_new', 'new_favorite', 'favorite_place', 'place_grab', 'grab_quick', 'quick_hearty', 'hearty_lunch', 'lunch_rice', 'rice_bean', 'bean_stew', 'stew_beef', 'beef_oxtail', 'oxtail_salad', 'salad_love', 'love_spot', 'spot_im', 'im_definitely', 'definitely_come', 'come_back', 'back_soon', 'soon_chicharron', 'chicharron_fry', 'fry_plaintains', 'plaintains_pork', 'pork_mofongo', 'mofongo_yuca', 'yuca_fry', 'fry_delicious', 'delicious_customer', 'customer_service', 'service_friendly', 'friendly_restaurant', 'restaurant_family', 'family_youre', 'youre_mood', 'mood_dominicanlatin', 'dominicanlatin_food', 'food_youre', 'youre_gonna', 'gonna_want', 'want_stop', 'stop_delicias', 'delicias_friendly', 'friendly_staff', 'staff_tasty', 'tasty_food', 'food_highly', 'highly_recommend', 'recommend_pork', 'pork_mofongo', 'mofongo_make', 'make_order', 'order_stew', 'stew_chicken', 'chicken_andor', 'andor_eggplant', 'eggplant_yellow', 'yellow_rice', 'rice_empanadas', 'empanadas_also', 'also_solid', 'solid_bet', 'bet_large', 'large_physically', 'physically_heavy', 'heavy_portion', 'portion_lot', 'lot_want', 'want_local', 'local_fast', 'fast_casual', 'casual_spot', 'spot_aside', 'aside_use', 'use_styrofoam', 'styrofoam_coolcant', 'coolcant_wait', 'wait_try', 'try_smoothy', 'smoothy_papaya', 'papaya_mango', 'mango_call', 'call_name', 'name_great', 'great_vegetarian', 'vegetarian_dinner', 'dinner_order', 'order_veggie', 'veggie_monfongo', 'monfongo_great', 'great_huge', 'huge_portion', 'portion_allow', 'allow_leave', 'leave_husband', 'husband_love', 'love_freshly', 'freshly_make', 'make_taste', 'taste_difference', 'difference_also', 'also_corn', 'corn_pudding', 'pudding_super', 'super_toothe', 'toothe_staff', 'staff_helpful', 'helpful_explain', 'explain_menu', 'menu_nice', 'nice_friendly', 'friendly_place', 'place_come', 'come_first', 'first_time', 'time_food', 'food_order', 'order_staff', 'staff_extremely', 'extremely_friendly', 'friendly_pile', 'pile_food', 'food_high', 'high_good', 'good_bring', 'bring_friend', 'friend_next', 'next_time', 'time_try', 'try_fast', 'fast_service', 'service_delicious', 'delicious_chicken', 'chicken_pork', 'pork_chop', 'chop_simple', 'simple_menu', 'menu_location', 'location_roslindale', 'roslindale_good', 'good_monfongo', 'monfongo_great', 'great_food', 'food_large', 'large_portion', 'portion_amazing', 'amazing_people', 'people_one', 'one_favorite', 'favorite_centre', 'centre_st', 'st_try', 'try_stew', 'stew_chicken', 'chicken_rice', 'rice_bean', 'bean_side', 'side_yuca', 'yuca_fry', 'fry_pia', 'pia_coladas', 'coladas_also', 'also_super', 'super_tasty', 'tasty_empanadas', 'empanadas_good', 'good_management', 'management_stellar', 'stellar_order', 'order_empanadas', 'empanadas_event', 'event_even', 'even_though', 'though_flood', 'flood_day', 'day_basically', 'basically_close', 'close_make', 'make_sure', 'sure_order', 'order_fresh', 'fresh_wait', 'wait_grateful', 'grateful_delicious', 'delicious_friend', 'friend_bring', 'bring_takeout', 'takeout_book', 'book_club', 'club_book', 'book_lose', 'lose_really', 'really_excuse', 'excuse_dominican', 'dominican_food', 'food_amiriteanway', 'amiriteanway_let', 'let_start', 'start_absolute', 'absolute_star', 'star_plate', 'plate_side', 'side_chicharronesexquisitely', 'chicharronesexquisitely_render', 'render_heavily', 'heavily_salt', 'salt_huge', 'huge_chunk', 'chunk_include', 'include_bone', 'bone_skin', 'skin_fat', 'fat_hoooo', 'hoooo_boy', 'boy_legit', 'legit_suppose', 'suppose_share', 'share_rest', 'rest_group', 'group_point', 'point_window', 'window_say', 'say_hey', 'hey_car', 'car_fire', 'fire_look', 'look_eat', 'eat_restill', 'restill_pay', 'pay_karma', 'karma_shes', 'shes_always', 'always_watchinganyway', 'watchinganyway_jam', 'jam_tostones', 'tostones_solid', 'solid_prefer', 'prefer_el', 'el_oriental', 'oriental_take', 'take_yucca', 'yucca_fry', 'fry_suffer', 'suffer_take', 'take_timeframe', 'timeframe_soften', 'soften_quickly', 'quickly_mean', 'mean_whatever', 'whatever_see', 'see_next', 'next_girlfriend', 'girlfriend_moment', 'moment_lift', 'lift_lidchicharrones', 'lidchicharrones_take', 'take_rise', 'rise_first', 'first_impression', 'impression_underwhelming', 'underwhelming_food', 'food_smallish', 'smallish_miserable', 'miserable_portion', 'portion_kind', 'kind_count', 'count_spoon', 'spoon_rice', 'rice_serve', 'serve_place', 'place_dominican', 'dominican_restaurant', 'restaurant_set', 'set_suppose', 'suppose_cheap', 'cheap_eat', 'eat_good', 'good_look', 'look_delicias', 'delicias_well', 'well_cativias', 'cativias_delicious', 'delicious_way', 'way_overpriced', 'overpriced_meat', 'meat_chicken', 'chicken_one', 'one_seafood', 'seafood_one', 'one_would', 'would_say', 'say_cost', 'cost_prohibitive', 'prohibitive_guy', 'guy_go', 'go_labor', 'labor_intensive', 'intensive_whatnot', 'whatnot_way', 'way_expensive', 'expensive_brougham', 'brougham_get', 'get_right', 'right_top', 'top_high', 'high_expectation', 'expectation_place', 'place_delicias', 'delicias_hyde', 'hyde_park', 'park_purchase', 'purchase_tostones', 'tostones_chicharrn', 'chicharrn_send', 'send_tostones', 'tostones_return', 'return_get', 'get_chicharrn', 'chicharrn_tostones', 'tostones_undercooked', 'undercooked_well', 'well_mash', 'mash_crispy', 'crispy_chicharrn', 'chicharrn_fat', 'fat_charge', 'charge_meal', 'meal_friend', 'friend_purchase', 'purchase_rice', 'rice_bean', 'bean_rice', 'rice_hard', 'hard_flavorless', 'flavorless_go', 'go_little', 'little_food', 'food_wasnt', 'wasnt_ready', 'ready_ready', 'ready_cold', 'cold_staff', 'staff_know', 'know_food', 'food_make', 'make_food', 'food_label', 'label_incorrectlyi', 'incorrectlyi_overall', 'overall_disappointed', 'disappointed_service', 'service_quality', 'quality_food'])]"
      ]
     },
     "execution_count": 19,
     "metadata": {},
     "output_type": "execute_result"
    }
   ],
   "source": [
    "processed_reviews.take(1)"
   ]
  },
  {
   "cell_type": "code",
   "execution_count": 20,
   "metadata": {},
   "outputs": [
    {
     "name": "stdout",
     "output_type": "stream",
     "text": [
      "['_c0', 'Unnamed: 0', 'businessname', 'Business_ID', 'violdttm', 'TMP_ID', '*', '**', '***', 'date', 'all_text', 'finished_unigrams', 'finished_ngrams']\n",
      "+--------------------+--------------------+\n",
      "|   finished_unigrams|     finished_ngrams|\n",
      "+--------------------+--------------------+\n",
      "|[great, spot, lun...|[great, spot, lun...|\n",
      "|[great, spot, lun...|[great, spot, lun...|\n",
      "+--------------------+--------------------+\n",
      "only showing top 2 rows\n",
      "\n"
     ]
    }
   ],
   "source": [
    "print(processed_reviews.columns)\n",
    "processed_reviews[['finished_unigrams','finished_ngrams']].show(2)"
   ]
  },
  {
   "cell_type": "code",
   "execution_count": 21,
   "metadata": {},
   "outputs": [],
   "source": [
    "(trainingData, testData) = processed_reviews.randomSplit([0.8, 0.2])"
   ]
  },
  {
   "cell_type": "code",
   "execution_count": 24,
   "metadata": {},
   "outputs": [
    {
     "name": "stdout",
     "output_type": "stream",
     "text": [
      "17678.4\n"
     ]
    }
   ],
   "source": [
    "trainingData_count = subset_count * 0.8\n",
    "print(trainingData_count)"
   ]
  },
  {
   "cell_type": "code",
   "execution_count": 25,
   "metadata": {},
   "outputs": [],
   "source": [
    "from pyspark.ml.feature import CountVectorizer\n",
    "from pyspark.ml.feature import IDF"
   ]
  },
  {
   "cell_type": "code",
   "execution_count": 66,
   "metadata": {},
   "outputs": [],
   "source": [
    "tfizer = CountVectorizer(inputCol = 'finished_ngrams', outputCol = 'tf_features', \n",
    "                         minDF = 0.01, maxDF = 0.1, vocabSize = int(trainingData_count / 2))\n",
    "\n",
    "tf_model = tfizer.fit(trainingData)\n",
    "tf_result_training = tf_model.transform(trainingData)\n",
    "tf_result_test = tf_model.transform(testData)\n",
    "\n",
    "idfizer = IDF(inputCol = 'tf_features', outputCol = 'tfidf_features')\n",
    "\n",
    "idf_model = idfizer.fit(tf_result_training)\n",
    "tfidf_result_training = idf_model.transform(tf_result_training)\n",
    "tfidf_result_test = idf_model.transform(tf_result_test)"
   ]
  },
  {
   "cell_type": "code",
   "execution_count": 33,
   "metadata": {},
   "outputs": [],
   "source": [
    "tf_model.save(\"_data/tmp_tfModel.model\")\n",
    "idf_model.save(\"_data/tmp_idfModel.model\")"
   ]
  },
  {
   "cell_type": "code",
   "execution_count": 34,
   "metadata": {},
   "outputs": [
    {
     "name": "stdout",
     "output_type": "stream",
     "text": [
      "+---+----------+--------------------+--------------------+----------+------+---+---+---+----------+--------------------+--------------------+--------------------+--------------------+--------------------+\n",
      "|_c0|Unnamed: 0|        businessname|         Business_ID|  violdttm|TMP_ID|  *| **|***|      date|            all_text|   finished_unigrams|     finished_ngrams|         tf_features|      tfidf_features|\n",
      "+---+----------+--------------------+--------------------+----------+------+---+---+---+----------+--------------------+--------------------+--------------------+--------------------+--------------------+\n",
      "|  9|         9|100% Delicias Exp...|dAolyz6VhWLFnpltq...|2019/10/28|   211|  0|  0|  0|2019-10-28|Great spot for lu...|[great, spot, lun...|[great, spot, lun...|(8839,[39,184,243...|(8839,[39,184,243...|\n",
      "| 10|        10|100% Delicias Exp...|dAolyz6VhWLFnpltq...|2020/06/10|   220|  7|  1|  1|2020-06-10|Great spot for lu...|[great, spot, lun...|[great, spot, lun...|(8839,[39,184,243...|(8839,[39,184,243...|\n",
      "+---+----------+--------------------+--------------------+----------+------+---+---+---+----------+--------------------+--------------------+--------------------+--------------------+--------------------+\n",
      "only showing top 2 rows\n",
      "\n",
      "None\n",
      "+---+----------+--------------+--------------------+----------+------+---+---+---+----------+--------------------+--------------------+--------------------+--------------------+--------------------+\n",
      "|_c0|Unnamed: 0|  businessname|         Business_ID|  violdttm|TMP_ID|  *| **|***|      date|            all_text|   finished_unigrams|     finished_ngrams|         tf_features|      tfidf_features|\n",
      "+---+----------+--------------+--------------------+----------+------+---+---+---+----------+--------------------+--------------------+--------------------+--------------------+--------------------+\n",
      "| 91|        91|21st Amendment|ZrSNKHiKK_PBB6UHx...|2013/08/16|   998|  2|  0|  0|2013-08-16|I'll be honest. I...|[ill, honest, exp...|[ill, honest, exp...|(8839,[4,13,18,32...|(8839,[4,13,18,32...|\n",
      "| 95|        95|21st Amendment|ZrSNKHiKK_PBB6UHx...|2016/06/13|  1007|  1|  0|  0|2016-06-13|I'll be honest. I...|[ill, honest, exp...|[ill, honest, exp...|(8839,[2,4,13,18,...|(8839,[2,4,13,18,...|\n",
      "+---+----------+--------------+--------------------+----------+------+---+---+---+----------+--------------------+--------------------+--------------------+--------------------+--------------------+\n",
      "only showing top 2 rows\n",
      "\n",
      "None\n"
     ]
    }
   ],
   "source": [
    "print(tfidf_result_training.show(2))\n",
    "print(tfidf_result_test.show(2))"
   ]
  },
  {
   "cell_type": "code",
   "execution_count": 35,
   "metadata": {},
   "outputs": [],
   "source": [
    "from pyspark.ml.feature import CountVectorizerModel\n",
    "tf_model = CountVectorizerModel.load(\"file:/home/john/_data/tmp_tfModel.model\")"
   ]
  },
  {
   "cell_type": "code",
   "execution_count": 36,
   "metadata": {},
   "outputs": [
    {
     "data": {
      "text/plain": [
       "['baseball',\n",
       " 'stadium',\n",
       " 'lobster_roll',\n",
       " 'dim_sum',\n",
       " 'museum',\n",
       " 'fenway_park',\n",
       " 'indian',\n",
       " 'waffle',\n",
       " 'field',\n",
       " 'tapa',\n",
       " 'korean',\n",
       " 'exhibit',\n",
       " 'ballpark',\n",
       " 'yankee',\n",
       " 'raman',\n",
       " 'gnocchi',\n",
       " 'pad_thai',\n",
       " 'pho',\n",
       " 'truffle',\n",
       " 'japanese',\n",
       " 'legal',\n",
       " 'monster',\n",
       " 'hot_dog',\n",
       " 'crab_cake',\n",
       " 'lobby',\n",
       " 'maki',\n",
       " 'restaurant_week',\n",
       " 'latte',\n",
       " 'sashimi',\n",
       " 'french_toast',\n",
       " 'cart',\n",
       " 'falafel',\n",
       " 'risotto',\n",
       " 'sox_fan',\n",
       " 'filet',\n",
       " 'front_desk',\n",
       " 'green_monster',\n",
       " 'scallion',\n",
       " 'italian_food',\n",
       " 'el',\n",
       " 'miso',\n",
       " 'fig',\n",
       " 'tempura',\n",
       " 'watch_game',\n",
       " 'fish_chip',\n",
       " 'guacamole',\n",
       " 'hummus',\n",
       " 'valet',\n",
       " 'sam_adam',\n",
       " 'short_rib',\n",
       " 'historic',\n",
       " 'naan',\n",
       " 'shabu',\n",
       " 'shower',\n",
       " 'benedict',\n",
       " 'whole_food',\n",
       " 'indian_food',\n",
       " 'prosciutto',\n",
       " 'jazz',\n",
       " 'veal',\n",
       " 'toro',\n",
       " 'mexican_food',\n",
       " 'coffee_shop',\n",
       " 'bouncer',\n",
       " 'baseball_fan',\n",
       " 'hash',\n",
       " 'grill_cheese',\n",
       " 'live_music',\n",
       " 'creme',\n",
       " 'omelette',\n",
       " 'spring_roll',\n",
       " 'chipotle',\n",
       " 'mfa',\n",
       " 'newbury_street',\n",
       " 'vietnamese',\n",
       " 'pita',\n",
       " 'hot_pot',\n",
       " 'theater',\n",
       " 'bark',\n",
       " 'eastern',\n",
       " 'squid',\n",
       " 'teriyaki',\n",
       " 'plantain',\n",
       " 'china',\n",
       " 'italian_restaurant',\n",
       " 'noodle_soup',\n",
       " 'thai_food',\n",
       " 'udon',\n",
       " 'slider',\n",
       " 'giacomos',\n",
       " 'elevator',\n",
       " 'crepe',\n",
       " 'cannoli',\n",
       " 'good_pizza',\n",
       " 'slaw',\n",
       " 'pork_belly',\n",
       " 'pasta_dish',\n",
       " 'gyro',\n",
       " 'brighton',\n",
       " 'southie',\n",
       " 'frites',\n",
       " 'collection',\n",
       " 'beet',\n",
       " 'cupcakes',\n",
       " 'soup_dumpling',\n",
       " 'bleacher',\n",
       " 'gelato',\n",
       " 'scallion_pancake',\n",
       " 'home_fry',\n",
       " 'beehive',\n",
       " 'boba',\n",
       " 'chocolate_cake',\n",
       " 'bubble_tea',\n",
       " 'copley',\n",
       " 'hot_chocolate',\n",
       " 'stephanies',\n",
       " 'union',\n",
       " 'bread_pudding',\n",
       " 'mary',\n",
       " 'octopus',\n",
       " 'fish_taco',\n",
       " 'green_tea',\n",
       " 'chicken_parm',\n",
       " 'masala',\n",
       " 'ricotta',\n",
       " 'bark_crab',\n",
       " 'deck',\n",
       " 'artichoke',\n",
       " 'fry_calamari',\n",
       " 'beacon_hill',\n",
       " 'brewery',\n",
       " 'egg_benedict',\n",
       " 'tiramisu',\n",
       " 'dive_bar',\n",
       " 'take_reservation',\n",
       " 'celtics',\n",
       " 'whiskey',\n",
       " 'harbor',\n",
       " 'bisque',\n",
       " 'kimchi',\n",
       " 'tourist_trap',\n",
       " 'anniversary',\n",
       " 'tot',\n",
       " 'lobster_ravioli',\n",
       " 'bon',\n",
       " 'spicy_tuna',\n",
       " 'chinese_restaurant',\n",
       " 'great_view',\n",
       " 'cupcake',\n",
       " 'braised',\n",
       " 'sushi_place',\n",
       " 'gym',\n",
       " 'taiwanese',\n",
       " 'organic',\n",
       " 'hazelnut',\n",
       " 'shawarma',\n",
       " 'omelet',\n",
       " 'groupon',\n",
       " 'good_sushi',\n",
       " 'joes',\n",
       " 'tikka',\n",
       " 'gate',\n",
       " 'guide',\n",
       " 'pearl',\n",
       " 'n_cheese',\n",
       " 'croissant',\n",
       " 'chocolate_chip',\n",
       " 'vendor',\n",
       " 'tequila',\n",
       " 'poutine',\n",
       " 'waterfront',\n",
       " 'inning',\n",
       " 'tartare',\n",
       " 'potato_fry',\n",
       " 'frank',\n",
       " 'boylston',\n",
       " 'soy_sauce',\n",
       " 'bloody_mary',\n",
       " 'mac_n',\n",
       " 'linguine',\n",
       " 'caroline',\n",
       " 'small_plate',\n",
       " 'cornbread',\n",
       " 'tavern',\n",
       " 'pork_chop',\n",
       " 'dorchester',\n",
       " 'historical',\n",
       " 'bolognese',\n",
       " 'arugula',\n",
       " 'pizza_place',\n",
       " 'hospital',\n",
       " 'guac',\n",
       " 'dj',\n",
       " 'champagne',\n",
       " 'miso_soup',\n",
       " 'shack',\n",
       " 'concession',\n",
       " 'touristy',\n",
       " 'swordfish',\n",
       " 'sticky_bun',\n",
       " 'good_italian',\n",
       " 'italy',\n",
       " 'faneuil',\n",
       " 'sweet_caroline',\n",
       " 'butternut',\n",
       " 'wonton',\n",
       " 'bruins',\n",
       " 'spaghetti',\n",
       " 'gra',\n",
       " 'fusion',\n",
       " 'black_bean',\n",
       " 'financial_district',\n",
       " 'bao',\n",
       " 'red_sauce',\n",
       " 'sport_bar',\n",
       " 'bistro',\n",
       " 'internet',\n",
       " 'max',\n",
       " 'quesadilla',\n",
       " 'oyster_house',\n",
       " 'bake_goods',\n",
       " 'shaw',\n",
       " 'stir_fry',\n",
       " 'aioli',\n",
       " 'old_restaurant',\n",
       " 'puff',\n",
       " 'sunday_brunch',\n",
       " 'trivia',\n",
       " 'milk_tea',\n",
       " 'special_occasion',\n",
       " 'player',\n",
       " 'ball_park',\n",
       " 'legal_seafood',\n",
       " 'science',\n",
       " 'hong',\n",
       " 'au',\n",
       " 'chorizo',\n",
       " 'suite',\n",
       " 'order_lobster',\n",
       " 'panini',\n",
       " 'seaport',\n",
       " 'cappuccino',\n",
       " 'douzo',\n",
       " 'smoothie',\n",
       " 'marinara',\n",
       " 'frost',\n",
       " 'stage',\n",
       " 'seaweed',\n",
       " 'good_burger',\n",
       " 'foie',\n",
       " 'fixe',\n",
       " 'butternut_squash',\n",
       " 'mein',\n",
       " 'yawkey',\n",
       " 'prudential',\n",
       " 'good_coffee',\n",
       " 'pizza_good',\n",
       " 'baseball_game',\n",
       " 'kenmore',\n",
       " 'game_fenway',\n",
       " 'paella',\n",
       " 'pork_bun',\n",
       " 'aisle',\n",
       " 'alfredo',\n",
       " 'concierge',\n",
       " 'salad_bar',\n",
       " 'dente',\n",
       " 'peanut_butter',\n",
       " 'harpoon',\n",
       " 'tom',\n",
       " 'marriott',\n",
       " 'tradition',\n",
       " 'chow',\n",
       " 'al_dente',\n",
       " 'magical',\n",
       " 'cauliflower',\n",
       " 'roof',\n",
       " 'faneuil_hall',\n",
       " 'pull_pork',\n",
       " 'great_beer',\n",
       " 'pole',\n",
       " 'prix',\n",
       " 'go_game',\n",
       " 'charles',\n",
       " 'veggie_burger',\n",
       " 'pelon',\n",
       " 'food_court',\n",
       " 'marrow',\n",
       " 'think_cup',\n",
       " 'biscuit',\n",
       " 'enchilada',\n",
       " 'berry',\n",
       " 'convention',\n",
       " 'foie_gra',\n",
       " 'union_oyster',\n",
       " 'series',\n",
       " 'indian_restaurant',\n",
       " 'lobster_bisque',\n",
       " 'trail',\n",
       " 'sampler',\n",
       " 'uni',\n",
       " 'cilantro',\n",
       " 'poach',\n",
       " 'selection_beer',\n",
       " 'burger_fry',\n",
       " 'eel',\n",
       " 'room_service',\n",
       " 'zen',\n",
       " 'ale',\n",
       " 'boat',\n",
       " 'beer_list',\n",
       " 'bu',\n",
       " 'kale',\n",
       " 'el_pelon',\n",
       " 'kong',\n",
       " 'cream_sauce',\n",
       " 'amenity',\n",
       " 'di',\n",
       " 'mignon',\n",
       " 'sour_cream',\n",
       " 'coleslaw',\n",
       " 'brown_rice',\n",
       " 'go_fenway',\n",
       " 'guinness',\n",
       " 'facility',\n",
       " 'get_lobster',\n",
       " 'irish_pub',\n",
       " 'lobster_mac',\n",
       " 'whip_cream',\n",
       " 'fondue',\n",
       " 'cider',\n",
       " 'yankee_fan',\n",
       " 'sea_food',\n",
       " 'rangoon',\n",
       " 'gin',\n",
       " 'smoothy',\n",
       " 'brioche',\n",
       " 'thin_crust',\n",
       " 'cuban',\n",
       " 'brulee',\n",
       " 'chicken_tikka',\n",
       " 'polish',\n",
       " 'tikka_masala',\n",
       " 'td',\n",
       " 'skewer',\n",
       " 'boloco',\n",
       " 'caramelized',\n",
       " 'westin',\n",
       " 'family_style',\n",
       " 'newbury_st',\n",
       " 'steak_frites',\n",
       " 'pepperoni',\n",
       " 'painting',\n",
       " 'oyster_bar',\n",
       " 'les',\n",
       " 'mimosa',\n",
       " 'bass',\n",
       " 'wait_outside',\n",
       " 'cone',\n",
       " 'factory',\n",
       " 'nation',\n",
       " 'game_day',\n",
       " 'freedom',\n",
       " 'league',\n",
       " 'fenway_frank',\n",
       " 'plaza',\n",
       " 'doctor',\n",
       " 'green_bean',\n",
       " 'india',\n",
       " 'line_door',\n",
       " 'pretzel',\n",
       " 'pan_fry',\n",
       " 'picnic',\n",
       " 'maple',\n",
       " 'fry_clam',\n",
       " 'arena',\n",
       " 'hong_kong',\n",
       " 'admission',\n",
       " 'prix_fixe',\n",
       " 'rice_bean',\n",
       " 'taiwan',\n",
       " 'filet_mignon',\n",
       " 'valentine',\n",
       " 'cole',\n",
       " 'steakhouse',\n",
       " 'cantonese',\n",
       " 'gay',\n",
       " 'flatbread',\n",
       " 'see_game',\n",
       " 'hanover',\n",
       " 'get_ticket',\n",
       " 'popcorn',\n",
       " 'cheese_pizza',\n",
       " 'pistachio',\n",
       " 'european',\n",
       " 'hotel_room',\n",
       " 'order_pizza',\n",
       " 'nutella',\n",
       " 'dance_floor',\n",
       " 'caprese',\n",
       " 'tartar',\n",
       " 'elegant',\n",
       " 'mug',\n",
       " 'roll_good',\n",
       " 'sirloin',\n",
       " 'korean_food',\n",
       " 'paneer',\n",
       " 'aquitaine',\n",
       " 'empanadas',\n",
       " 'creme_brulee',\n",
       " 'lo_mein',\n",
       " 'go_brunch',\n",
       " 'stay_hotel',\n",
       " 'haddock',\n",
       " 'anna',\n",
       " 'watermelon',\n",
       " 'good_seafood',\n",
       " 'blt',\n",
       " 'restaurant_north',\n",
       " 'good_steak',\n",
       " 'lasagna',\n",
       " 'mi',\n",
       " 'fra',\n",
       " 'bat',\n",
       " 'line_move',\n",
       " 'scone',\n",
       " 'raw_bar',\n",
       " 'grass',\n",
       " 'rice_noodle',\n",
       " 'edamame',\n",
       " 'eastern_standard',\n",
       " 'macaroni',\n",
       " 'chang',\n",
       " 'greek_salad',\n",
       " 'video',\n",
       " 'waiter_come',\n",
       " 'green_line',\n",
       " 'crab_rangoon',\n",
       " 'trio',\n",
       " 'wedge',\n",
       " 'cole_slaw',\n",
       " 'logan',\n",
       " 'cannolis',\n",
       " 'cup_coffee',\n",
       " 'birthday_dinner',\n",
       " 'mlb',\n",
       " 'brownie',\n",
       " 'dragon',\n",
       " 'obstruct',\n",
       " 'white_wine',\n",
       " 'egg_cheese',\n",
       " 'good_lobster',\n",
       " 'chai',\n",
       " 'calzone',\n",
       " 'river',\n",
       " 'creek',\n",
       " 'pear',\n",
       " 'bone_marrow',\n",
       " 'china_pearl',\n",
       " 'tower',\n",
       " 'taro',\n",
       " 'karaoke',\n",
       " 'chowder_good',\n",
       " 'pillow',\n",
       " 'place_watch',\n",
       " 'freedom_trail',\n",
       " 'corned',\n",
       " 'mei',\n",
       " 'roe',\n",
       " 'good_dish',\n",
       " 'burger_good',\n",
       " 'good_breakfast',\n",
       " 'mousse',\n",
       " 'scampi',\n",
       " 'atm',\n",
       " 'polenta',\n",
       " 'free_wifi',\n",
       " 'red_wine',\n",
       " 'milkshake',\n",
       " 'hallway',\n",
       " 'fi',\n",
       " 'meatloaf',\n",
       " 'maine',\n",
       " 'fresh_seafood',\n",
       " 'bar_tender',\n",
       " 'tub',\n",
       " 'sushi_bar',\n",
       " 'corned_beef',\n",
       " 'table_ready',\n",
       " 'get_see',\n",
       " 'scallions',\n",
       " 'cv',\n",
       " 'end_restaurant',\n",
       " 'wi',\n",
       " 'custard',\n",
       " 'tate',\n",
       " 'theatre',\n",
       " 'tank',\n",
       " 'roast_beef',\n",
       " 'bar_boston',\n",
       " 'brussel',\n",
       " 'rangoons',\n",
       " 'angel',\n",
       " 'gear',\n",
       " 'thai_restaurant',\n",
       " 'lentil',\n",
       " 'hilton',\n",
       " 'jelly',\n",
       " 'terminal',\n",
       " 'noodle_dish',\n",
       " 'sheet',\n",
       " 'sushi_restaurant',\n",
       " 'ceviche',\n",
       " 'arancini',\n",
       " 'brussels',\n",
       " 'wine_glass',\n",
       " 'seafood_restaurant',\n",
       " 'thai_place',\n",
       " 'grille',\n",
       " 'texas',\n",
       " 'poke',\n",
       " 'back_room',\n",
       " 'truffle_fry',\n",
       " 'iron',\n",
       " 'liberty',\n",
       " 'get_burger',\n",
       " 'twin',\n",
       " 'decadent',\n",
       " 'bud_light',\n",
       " 'mojito',\n",
       " 'breakfast_lunch',\n",
       " 'brussel_sprout',\n",
       " 'dinner_menu',\n",
       " 'cajun',\n",
       " 'middle_eastern',\n",
       " 'mocha',\n",
       " 'island_creek',\n",
       " 'marsala',\n",
       " 'corn_bread',\n",
       " 'garlic_bread',\n",
       " 'fritter',\n",
       " 'chip_salsa',\n",
       " 'boston_common',\n",
       " 'bad_seat',\n",
       " 'yard',\n",
       " 'stop_shop',\n",
       " 'passion',\n",
       " 'chicken_pizza',\n",
       " 'dan',\n",
       " 'bostonians',\n",
       " 'beantown',\n",
       " 'doughnut',\n",
       " 'kobe',\n",
       " 'lobster_meat',\n",
       " 'shuttle',\n",
       " 'wi_fi',\n",
       " 'room_clean',\n",
       " 'nurse',\n",
       " 'sum_place',\n",
       " 'beloved',\n",
       " 'roast_chicken',\n",
       " 'tate_tot',\n",
       " 'pitch',\n",
       " 'bbq_sauce',\n",
       " 'upper_crust',\n",
       " 'target',\n",
       " 'nigiri',\n",
       " 'lot_fun',\n",
       " 'grit',\n",
       " 'mare',\n",
       " 'film',\n",
       " 'rum',\n",
       " 'bruschetta',\n",
       " 'tuna_roll',\n",
       " 'tenderloin',\n",
       " 'sundae',\n",
       " 'crab_leg',\n",
       " 'outlet',\n",
       " 'belgian',\n",
       " 'fry_egg',\n",
       " 'seaweed_salad',\n",
       " 'sushi_roll',\n",
       " 'jp_lick',\n",
       " 'order_burger',\n",
       " 'stella',\n",
       " 'celery',\n",
       " 'put_name',\n",
       " 'ink',\n",
       " 'bourbon',\n",
       " 'valentine_day',\n",
       " 'shrimp_scallop',\n",
       " 'checkout',\n",
       " 'make_drink',\n",
       " 'elbow',\n",
       " 'coffee_good',\n",
       " 'half_price',\n",
       " 'shanghai',\n",
       " 'carbonara',\n",
       " 'sweet_sour',\n",
       " 'barista',\n",
       " 'brisket',\n",
       " 'jersey',\n",
       " 'quincy_market',\n",
       " 'bar_restaurant',\n",
       " 'boneless',\n",
       " 'animal',\n",
       " 'landmark',\n",
       " 'gift_shop',\n",
       " 'mirror',\n",
       " 'lattes',\n",
       " 'asian_food',\n",
       " 'ship',\n",
       " 'order_online',\n",
       " 'legal_sea',\n",
       " 'roxbury',\n",
       " 'medical',\n",
       " 'chicken_waffle',\n",
       " 'bar_seat',\n",
       " 'mediterranean',\n",
       " 'brie',\n",
       " 'brunch_menu',\n",
       " 'die_hard',\n",
       " 'reception',\n",
       " 'smoke_salmon',\n",
       " 'good_sandwich',\n",
       " 'second_floor',\n",
       " 'franks',\n",
       " 'drink_friend',\n",
       " 'bibimbap',\n",
       " 'th_floor',\n",
       " 'carnitas',\n",
       " 'americanized',\n",
       " 'get_steak',\n",
       " 'chain_restaurant',\n",
       " 'citrus',\n",
       " 'td_garden',\n",
       " 'spicy_sauce',\n",
       " 'bulgogi',\n",
       " 'gratuity',\n",
       " 'prepare_food',\n",
       " 'sticky_rice',\n",
       " 'brown_sugar',\n",
       " 'good_chinese',\n",
       " 'diavolo',\n",
       " 'good_seat',\n",
       " 'century',\n",
       " 'spicy_chicken',\n",
       " 'good_thai',\n",
       " 'outdoor_patio',\n",
       " 'sorbet',\n",
       " 'neck',\n",
       " 'squash_ravioli',\n",
       " 'th_inning',\n",
       " 'good_music',\n",
       " 'contemporary',\n",
       " 'food_truck',\n",
       " 'get_beer',\n",
       " 'order_dish',\n",
       " 'good_indian',\n",
       " 'capital',\n",
       " 'mai',\n",
       " 'rowdy',\n",
       " 'carne',\n",
       " 'come_drink',\n",
       " 'red_bean',\n",
       " 'sales',\n",
       " 'drunken_noodle',\n",
       " 'egg_roll',\n",
       " 'samosas',\n",
       " 'linguini',\n",
       " 'beet_salad',\n",
       " 'drink_beer',\n",
       " 'boston_red',\n",
       " 'oreo',\n",
       " 'freeze_yogurt',\n",
       " 'stall',\n",
       " 'del',\n",
       " 'great_coffee',\n",
       " 'obstruct_view',\n",
       " 'steamer',\n",
       " 'velvet',\n",
       " 'steak_cheese',\n",
       " 'quesadillas',\n",
       " 'legals',\n",
       " 'farm',\n",
       " 'leaf',\n",
       " 'battered',\n",
       " 'jalapeno',\n",
       " 'cheap_beer',\n",
       " 'park_garage',\n",
       " 'matcha',\n",
       " 'small_restaurant',\n",
       " 'pool_table',\n",
       " 'queso',\n",
       " 'good_mexican',\n",
       " 'bar_staff',\n",
       " 'symphony',\n",
       " 'gallery',\n",
       " 'shellfish',\n",
       " 'spicy_food',\n",
       " 'valet_park',\n",
       " 'dc',\n",
       " 'depth',\n",
       " 'trader',\n",
       " 'come_restaurant',\n",
       " 'onion_soup',\n",
       " 'pour_house',\n",
       " 'ipa',\n",
       " 'stand_line',\n",
       " 'property',\n",
       " 'fun_atmosphere',\n",
       " 'zucchini',\n",
       " 'eat_sushi',\n",
       " 'claw',\n",
       " 'one_dish',\n",
       " 'tell_wait',\n",
       " 'attraction',\n",
       " 'vermicelli',\n",
       " 'must_see',\n",
       " 'get_pizza',\n",
       " 'cocktail_menu',\n",
       " 'beef_noodle',\n",
       " 'sale',\n",
       " 'saag',\n",
       " 'order_spicy',\n",
       " 'certificate',\n",
       " 'half_dozen',\n",
       " 'flat_screen',\n",
       " 'poach_egg',\n",
       " 'cheese_sandwich',\n",
       " 'cure',\n",
       " 'scramble_egg',\n",
       " 'penne',\n",
       " 'national',\n",
       " 'chutney',\n",
       " 'ribeye',\n",
       " 'raw_oyster',\n",
       " 'grotto',\n",
       " 'marys',\n",
       " 'hockey',\n",
       " 'leek',\n",
       " 'dumpling_house',\n",
       " 'order_medium',\n",
       " 'radish',\n",
       " 'celtics_game',\n",
       " 'escargot',\n",
       " 'good_clam',\n",
       " 'food_beer',\n",
       " 'pub_food',\n",
       " 'knowledgable',\n",
       " 'server_attentive',\n",
       " 'ranch',\n",
       " 'guard',\n",
       " 'informative',\n",
       " 'msg',\n",
       " 'transportation',\n",
       " 'rustic',\n",
       " 'alley',\n",
       " 'draft_beer',\n",
       " 'east_boston',\n",
       " 'stuffy',\n",
       " 'crab_rangoons',\n",
       " 'bar_order',\n",
       " 'home_plate',\n",
       " 'bacon_egg',\n",
       " 'night_drink',\n",
       " 'fruity',\n",
       " 'queen',\n",
       " 'egg_sandwich',\n",
       " 'entre',\n",
       " 'garlic_sauce',\n",
       " 'place_north',\n",
       " 'excitement',\n",
       " 'tremont',\n",
       " 'bird',\n",
       " 'stand_room',\n",
       " 'line_long',\n",
       " 'bartender_friendly',\n",
       " 'table_two',\n",
       " 'minute_table',\n",
       " 'chickpea',\n",
       " 'flake',\n",
       " 'stay_boston',\n",
       " 'yo',\n",
       " 'halibut',\n",
       " 'gyoza',\n",
       " 'pizza_great',\n",
       " 'tour_guide',\n",
       " 'katsu',\n",
       " 'channel',\n",
       " 'ocean',\n",
       " 'picnic_table',\n",
       " 'dim_light',\n",
       " 'sox_play',\n",
       " 'mouse',\n",
       " 'kebab',\n",
       " 'delivery_guy',\n",
       " 'regular_menu',\n",
       " 'lespalier',\n",
       " 'er',\n",
       " 'trader_joes',\n",
       " 'wasabi',\n",
       " 'every_penny',\n",
       " 'truffle_oil',\n",
       " 'inn',\n",
       " 'grapefruit',\n",
       " 'raisin',\n",
       " 'sheraton',\n",
       " 'brussels_sprout',\n",
       " 'ownership',\n",
       " 'anchovy',\n",
       " 'park_plaza',\n",
       " 'much_fun',\n",
       " 'bar_drink',\n",
       " 'concourse',\n",
       " 'le',\n",
       " 'boston_cream',\n",
       " 'live_jazz',\n",
       " 'fra_diavolo',\n",
       " 'empty_table',\n",
       " 'get_room',\n",
       " 'restaurant_small',\n",
       " 'chant',\n",
       " 'dinner_last',\n",
       " 'good_wine',\n",
       " 'dish_well',\n",
       " 'philly',\n",
       " 'ask_waiter',\n",
       " 'band_play',\n",
       " 'butcher',\n",
       " 'early_dinner',\n",
       " 'nice_view',\n",
       " 'salad_sandwich',\n",
       " 'tortellini',\n",
       " 'must_visit',\n",
       " 'activity',\n",
       " 'high_top',\n",
       " 'strangers',\n",
       " 'bloody_marys',\n",
       " 'great_wine',\n",
       " 'jeans',\n",
       " 'artist',\n",
       " 'spiciness',\n",
       " 'feast',\n",
       " 'german',\n",
       " 'comped',\n",
       " 'rat',\n",
       " 'bar_bartender',\n",
       " 'noise_level',\n",
       " 'scotch',\n",
       " 'line_outside',\n",
       " 'another_table',\n",
       " 'fireplace',\n",
       " 'laptop',\n",
       " 'cheesecake_factory',\n",
       " 'cow',\n",
       " 'luxury',\n",
       " 'place_stay',\n",
       " 'take_tour',\n",
       " 'bamboo',\n",
       " 'chris',\n",
       " 'roast_pork',\n",
       " 'bay_area',\n",
       " 'shuck',\n",
       " 'chopstick',\n",
       " 'beach',\n",
       " 'jacket',\n",
       " 'fry_oyster',\n",
       " 'beef_hash',\n",
       " 'cha',\n",
       " 'slice_pizza',\n",
       " 'yellowtail',\n",
       " 'jumbo',\n",
       " 'lamp',\n",
       " 'institution',\n",
       " 'mole',\n",
       " 'authentic_italian',\n",
       " 'restaurant_bar',\n",
       " 'ziti',\n",
       " 'beer_food',\n",
       " 'night_boston',\n",
       " 'could_hear',\n",
       " 'banh',\n",
       " 'homefries',\n",
       " 'soap',\n",
       " 'foul',\n",
       " 'first_floor',\n",
       " 'mahi',\n",
       " 'tin',\n",
       " 'locally',\n",
       " 'dessert_menu',\n",
       " 'charlestown',\n",
       " 'maki_roll',\n",
       " 'work_drink',\n",
       " 'first_come',\n",
       " 'brave',\n",
       " 'without_reservation',\n",
       " 'crab_meat',\n",
       " 'commons',\n",
       " 'great_pizza',\n",
       " 'inventive',\n",
       " 'customize',\n",
       " 'every_dish',\n",
       " 'en',\n",
       " 'dish_also',\n",
       " 'sauted',\n",
       " 'citizen',\n",
       " 'chicken_good',\n",
       " 'hundred',\n",
       " 'table_right',\n",
       " 'v',\n",
       " 'yum_yum',\n",
       " 'order_fish',\n",
       " 'baristas',\n",
       " 'refill_water',\n",
       " 'room_small',\n",
       " 'confit',\n",
       " 'clay',\n",
       " 'gorgonzola',\n",
       " 'drinker',\n",
       " 'expect_wait',\n",
       " 'beer_good',\n",
       " 'membership',\n",
       " 'bbq_chicken',\n",
       " 'rainbow',\n",
       " 'ahi',\n",
       " 'drink_make',\n",
       " 'april',\n",
       " 'convention_center',\n",
       " 'prudential_center',\n",
       " 'boston_restaurant',\n",
       " 'visit_fenway',\n",
       " 'authenticity',\n",
       " 'downtown_cross',\n",
       " 'paul',\n",
       " 'northeastern',\n",
       " 'validate',\n",
       " 'fry_food',\n",
       " 'first_night',\n",
       " 'get_spicy',\n",
       " 'bar_wait',\n",
       " 'pork_dumpling',\n",
       " 'room_nice',\n",
       " 'bento',\n",
       " 'boo',\n",
       " 'open_kitchen',\n",
       " 'ray',\n",
       " 'rice_cake',\n",
       " 'carte',\n",
       " 'bottle_water',\n",
       " 'cook_food',\n",
       " 'breakfast_place',\n",
       " 'es',\n",
       " 'hot_sour',\n",
       " 'great_ambiance',\n",
       " 'thai_ice',\n",
       " 'hotpot',\n",
       " 'mail',\n",
       " 'selection_great',\n",
       " 'shrimp_dumpling',\n",
       " 'caf',\n",
       " 'friend_visit',\n",
       " 'steak_house',\n",
       " 'south_boston',\n",
       " 'r',\n",
       " 'sf',\n",
       " 'buffalo_wing',\n",
       " 'foam',\n",
       " 'tasty_burger',\n",
       " 'flame',\n",
       " 'craft_beer',\n",
       " 'pecan',\n",
       " 'macaroon',\n",
       " 'tuna_tartare',\n",
       " 'soup_good',\n",
       " 'curtain',\n",
       " 'minute_seat',\n",
       " 'nice_restaurant',\n",
       " 'speak_english',\n",
       " 'lychee',\n",
       " 'outdated',\n",
       " 'bar_table',\n",
       " 'hotdog',\n",
       " 'birthday_party',\n",
       " 'dock',\n",
       " 'back_dinner',\n",
       " 'torta',\n",
       " 'sauce_delicious',\n",
       " 'go_red',\n",
       " 'breakfast_food',\n",
       " 'sexy',\n",
       " 'order_beer',\n",
       " 'seafood_platter',\n",
       " 'hollandaise',\n",
       " 'rigatoni',\n",
       " 'fresh_fish',\n",
       " 'bar_go',\n",
       " 'waitress_say',\n",
       " 'cheese_plate',\n",
       " 'shumai',\n",
       " ...]"
      ]
     },
     "execution_count": 36,
     "metadata": {},
     "output_type": "execute_result"
    }
   ],
   "source": [
    "tf_model.vocabulary"
   ]
  },
  {
   "cell_type": "code",
   "execution_count": 37,
   "metadata": {},
   "outputs": [],
   "source": [
    "from pyspark.ml.clustering import LDA\n",
    "num_topics = 10\n",
    "max_iter = 10\n",
    "lda = LDA(k = num_topics, \n",
    "          maxIter = max_iter, \n",
    "          featuresCol = 'tfidf_features')\n",
    "ldaModel = lda.fit(tfidf_result_training)"
   ]
  },
  {
   "cell_type": "code",
   "execution_count": 38,
   "metadata": {},
   "outputs": [],
   "source": [
    "from pyspark.sql import types as T\n",
    "from pyspark.sql import functions as F\n",
    "vocab = tf_model.vocabulary\n",
    "def get_words(token_list):\n",
    "    return [vocab[token_id] for token_id in token_list]\n",
    "udf_to_words = F.udf(get_words, T.ArrayType(T.StringType()))"
   ]
  },
  {
   "cell_type": "code",
   "execution_count": 39,
   "metadata": {},
   "outputs": [
    {
     "name": "stdout",
     "output_type": "stream",
     "text": [
      "+-----+----------------------------------------------------------------------------------------------------+\n",
      "|topic|                                                                                          topicWords|\n",
      "+-----+----------------------------------------------------------------------------------------------------+\n",
      "|    0|          [museum, stadium, exhibit, baseball, fenway_park, ballpark, mfa, field, yankee, bark_crab]|\n",
      "|    1|      [indian, giacomos, naan, indian_food, italian_food, lobby, masala, tikka, gnocchi, front_desk]|\n",
      "|    2|                      [maki, sashimi, douzo, raman, japanese, miso, tempura, boba, udon, good_sushi]|\n",
      "|    3|[dim_sum, soup_dumpling, taiwanese, bao, scallion, scallion_pancake, dumpling_house, taiwan, shab...|\n",
      "|    4|      [fig, good_pizza, celtics, td, prosciutto, pizza_place, arena, bruins, pizza_good, thin_crust]|\n",
      "|    5|[pho, bouncer, crepe, live_music, oyster_house, old_restaurant, whiskey, union, tavern, union_oys...|\n",
      "|    6| [mexican_food, sticky_bun, el, pelon, el_pelon, plantain, guacamole, enchilada, aquitaine, cupcake]|\n",
      "|    7|      [lobster_roll, tapa, legal, crab_cake, dim_sum, paella, bisque, toro, restaurant_week, marrow]|\n",
      "|    8|               [waffle, falafel, beehive, shawarma, jazz, gyro, french_toast, hummus, pita, poutine]|\n",
      "|    9|  [korean, pad_thai, cannoli, thai_food, whole_food, gelato, kimchi, korean_food, cannolis, bulgogi]|\n",
      "+-----+----------------------------------------------------------------------------------------------------+\n",
      "\n"
     ]
    }
   ],
   "source": [
    "# 取10個字詞\n",
    "num_top_words = 10\n",
    "topics = ldaModel \\\n",
    ".describeTopics(num_top_words) \\\n",
    ".withColumn('topicWords', udf_to_words(F.col('termIndices')))\n",
    "topics.select('topic', 'topicWords').show(truncate = 100)"
   ]
  },
  {
   "cell_type": "code",
   "execution_count": null,
   "metadata": {},
   "outputs": [],
   "source": [
    "#from pyspark.ml.feature import VectorAssembler\n",
    "#vectorAssembler = VectorAssembler(inputCols = ['CRIM', 'ZN', 'INDUS', 'CHAS', 'NOX', 'RM', 'AGE', 'DIS', 'RAD', 'TAX', 'PT', 'B', 'LSTAT'], outputCol = 'features')\n",
    "#vhouse_df = vectorAssembler.transform(house_df)\n",
    "#vhouse_df = vhouse_df.select(['features', 'MV'])\n",
    "#vhouse_df.show(3)"
   ]
  },
  {
   "cell_type": "code",
   "execution_count": 67,
   "metadata": {},
   "outputs": [],
   "source": [
    "tfidf_result_test = tfidf_result_test.withColumnRenamed('***','level_3')\n",
    "tfidf_result_test = tfidf_result_test.withColumnRenamed('**','level_2')\n",
    "tfidf_result_test = tfidf_result_test.withColumnRenamed('*','level_1')\n",
    "tfidf_result_training = tfidf_result_training.withColumnRenamed('***','level_3')\n",
    "tfidf_result_training = tfidf_result_training.withColumnRenamed('**','level_2')\n",
    "tfidf_result_training = tfidf_result_training.withColumnRenamed('*','level_1')\n",
    "#({'*':'level_1','**':'level_2','***':'level_3'})\n",
    "#tfidf_result_training.show(3)"
   ]
  },
  {
   "cell_type": "code",
   "execution_count": 61,
   "metadata": {},
   "outputs": [
    {
     "name": "stdout",
     "output_type": "stream",
     "text": [
      "+---+----------+--------------+--------------------+----------+------+---+---+---+----------+--------------------+--------------------+--------------------+--------------------+--------------------+\n",
      "|_c0|Unnamed: 0|  businessname|         Business_ID|  violdttm|TMP_ID|  *| **|***|      date|            all_text|   finished_unigrams|     finished_ngrams|         tf_features|      tfidf_features|\n",
      "+---+----------+--------------+--------------------+----------+------+---+---+---+----------+--------------------+--------------------+--------------------+--------------------+--------------------+\n",
      "| 91|        91|21st Amendment|ZrSNKHiKK_PBB6UHx...|2013/08/16|   998|  2|  0|  0|2013-08-16|I'll be honest. I...|[ill, honest, exp...|[ill, honest, exp...|(8839,[4,13,18,32...|(8839,[4,13,18,32...|\n",
      "+---+----------+--------------+--------------------+----------+------+---+---+---+----------+--------------------+--------------------+--------------------+--------------------+--------------------+\n",
      "only showing top 1 row\n",
      "\n"
     ]
    }
   ],
   "source": [
    "### *\n",
    "tfidf_result_test.show(1)"
   ]
  },
  {
   "cell_type": "code",
   "execution_count": null,
   "metadata": {},
   "outputs": [],
   "source": [
    "### TMP column_name= *"
   ]
  },
  {
   "cell_type": "code",
   "execution_count": null,
   "metadata": {},
   "outputs": [],
   "source": [
    "# * LinearRegression"
   ]
  },
  {
   "cell_type": "code",
   "execution_count": 68,
   "metadata": {},
   "outputs": [
    {
     "name": "stdout",
     "output_type": "stream",
     "text": [
      "Coefficients: (8839,[614,796,1404,1534,1658,1893,3514,4218,4257,5076,7297,8131],[0.03512562533000398,0.005800134759622662,0.010991539330916312,0.003000184427165887,0.0005410077827142272,0.04100599499985956,0.013185241270330548,0.014420009600605958,0.029413751684438355,0.001827109819710285,0.01189240235441466,0.014740139576616039])\n",
      "Intercept: 3.2669915194053667\n"
     ]
    }
   ],
   "source": [
    "# regParam = Param(parent='undefined', name='regParam', doc='regularization parameter (>= 0).')¶\n",
    "# maxIter = Param(parent='undefined', name='maxIter', doc='max number of iterations (>= 0).')\n",
    "# elasticNetParam = Param(parent='undefined', name='elasticNetParam', doc='the ElasticNet mixing parameter, in range [0, 1]. For alpha = 0, the penalty is an L2 penalty. For alpha = 1, it is an L1 penalty.')\n",
    "from pyspark.ml.regression import LinearRegression\n",
    "lr1 = LinearRegression(featuresCol = 'tfidf_features', labelCol='level_1', maxIter=10, regParam=0.3, elasticNetParam=0.8)\n",
    "lr1_model = lr1.fit(tfidf_result_training)\n",
    "\n",
    "print(\"Coefficients: \" + str(lr1_model.coefficients))\n",
    "print(\"Intercept: \" + str(lr1_model.intercept))"
   ]
  },
  {
   "cell_type": "code",
   "execution_count": 69,
   "metadata": {},
   "outputs": [
    {
     "name": "stdout",
     "output_type": "stream",
     "text": [
      "RMSE: 3.323097\n",
      "r2: 0.018753\n"
     ]
    }
   ],
   "source": [
    "trainingSummary_1 = lr1_model.summary\n",
    "print(\"RMSE: %f\" % trainingSummary_1.rootMeanSquaredError)\n",
    "print(\"r2: %f\" % trainingSummary_1.r2)"
   ]
  },
  {
   "cell_type": "code",
   "execution_count": null,
   "metadata": {},
   "outputs": [],
   "source": [
    "#tfidf_result_training[['level_1']].describe().show()"
   ]
  },
  {
   "cell_type": "code",
   "execution_count": 70,
   "metadata": {
    "scrolled": true
   },
   "outputs": [
    {
     "name": "stdout",
     "output_type": "stream",
     "text": [
      "+------------------+-------+--------------------+\n",
      "|        prediction|level_1|      tfidf_features|\n",
      "+------------------+-------+--------------------+\n",
      "|3.2669915194053667|      2|(8839,[4,13,18,32...|\n",
      "|3.2669915194053667|      1|(8839,[2,4,13,18,...|\n",
      "|3.2669915194053667|      1|(8839,[2,4,13,18,...|\n",
      "|3.6277011493913345|      1|(8839,[2,15,18,23...|\n",
      "|3.4357864656610526|      1|(8839,[15,18,23,2...|\n",
      "+------------------+-------+--------------------+\n",
      "only showing top 5 rows\n",
      "\n"
     ]
    }
   ],
   "source": [
    "lr1_predictions = lr1_model.transform(tfidf_result_test) \n",
    "lr1_predictions.select(\"prediction\",\"level_1\",\"tfidf_features\").show(5)\n",
    "\n"
   ]
  },
  {
   "cell_type": "code",
   "execution_count": null,
   "metadata": {},
   "outputs": [],
   "source": [
    "# * RegressionEvaluator"
   ]
  },
  {
   "cell_type": "code",
   "execution_count": 71,
   "metadata": {},
   "outputs": [
    {
     "name": "stdout",
     "output_type": "stream",
     "text": [
      "R Squared (R2) on test data = 0.0101553\n"
     ]
    }
   ],
   "source": [
    "from pyspark.ml.evaluation import RegressionEvaluator \n",
    "lr1_evaluator = RegressionEvaluator(predictionCol=\"prediction\", labelCol=\"level_1\",metricName=\"r2\") \n",
    "print(\"R Squared (R2) on test data = %g\" % lr1_evaluator.evaluate (lr1_predictions))"
   ]
  },
  {
   "cell_type": "code",
   "execution_count": 72,
   "metadata": {},
   "outputs": [
    {
     "name": "stdout",
     "output_type": "stream",
     "text": [
      "測試數據的均方根誤差 (RMSE) = 3.48533\n"
     ]
    }
   ],
   "source": [
    "test_result_1 = lr1_model.evaluate(tfidf_result_test) \n",
    "print(\"測試數據的均方根誤差 (RMSE) = %g\" % test_result_1.rootMeanSquaredError)"
   ]
  },
  {
   "cell_type": "code",
   "execution_count": 73,
   "metadata": {},
   "outputs": [
    {
     "name": "stdout",
     "output_type": "stream",
     "text": [
      "numIterations: 10\n",
      "objectiveHistory: [0.4999716022036692, 0.49958641222170586, 0.4993562261763892, 0.49849455705163936, 0.49840087348899137, 0.49833571740712623, 0.4982947102164213, 0.49826553691414316, 0.49821586562308395, 0.49818991402678114, 0.49816429544176033]\n",
      "+-------------------+\n",
      "|          residuals|\n",
      "+-------------------+\n",
      "|-3.2669915194053667|\n",
      "| 3.7330084805946333|\n",
      "| 0.7330084805946333|\n",
      "|-2.2669915194053667|\n",
      "|-3.2669915194053667|\n",
      "| 0.7330084805946333|\n",
      "|-0.2669915194053667|\n",
      "|-0.2669915194053667|\n",
      "| 0.7330084805946333|\n",
      "| 2.7330084805946333|\n",
      "| 2.7330084805946333|\n",
      "|-3.2669915194053667|\n",
      "|  4.733008480594633|\n",
      "| 0.7330084805946333|\n",
      "|-2.2669915194053667|\n",
      "|-2.2669915194053667|\n",
      "|-2.2669915194053667|\n",
      "| 0.7330084805946333|\n",
      "|  4.733008480594633|\n",
      "| 1.7330084805946333|\n",
      "+-------------------+\n",
      "only showing top 20 rows\n",
      "\n"
     ]
    }
   ],
   "source": [
    "print(\"numIterations: %d\" % trainingSummary_1.totalIterations) \n",
    "print(\"objectiveHistory: %s\" % str(trainingSummary_1.objectiveHistory)) \n",
    "trainingSummary_1.residuals.show()"
   ]
  },
  {
   "cell_type": "code",
   "execution_count": 74,
   "metadata": {},
   "outputs": [
    {
     "name": "stdout",
     "output_type": "stream",
     "text": [
      "+------------------+-------+--------------------+\n",
      "|        prediction|level_1|      tfidf_features|\n",
      "+------------------+-------+--------------------+\n",
      "|3.2669915194053667|      2|(8839,[4,13,18,32...|\n",
      "|3.2669915194053667|      1|(8839,[2,4,13,18,...|\n",
      "|3.2669915194053667|      1|(8839,[2,4,13,18,...|\n",
      "|3.6277011493913345|      1|(8839,[2,15,18,23...|\n",
      "|3.4357864656610526|      1|(8839,[15,18,23,2...|\n",
      "|3.2669915194053667|      0|(8839,[2,23,26,32...|\n",
      "|3.2669915194053667|      1|(8839,[38,91,122,...|\n",
      "|3.2669915194053667|      1|        (8839,[],[])|\n",
      "|3.2669915194053667|      3|(8839,[18,22,26,3...|\n",
      "|3.2669915194053667|     10|(8839,[4,7,8,9,10...|\n",
      "|3.2669915194053667|     11|(8839,[4,7,8,9,10...|\n",
      "|3.2669915194053667|      1|(8839,[4,7,8,9,10...|\n",
      "|3.3965231313210253|      2|(8839,[8,9,27,39,...|\n",
      "|3.3965231313210253|      4|(8839,[8,9,27,39,...|\n",
      "|3.3398291237959117|      8|(8839,[0,7,8,13,1...|\n",
      "|3.2669915194053667|      1|(8839,[46,70,75,1...|\n",
      "|3.2669915194053667|      3|(8839,[46,70,75,1...|\n",
      "|3.2669915194053667|      0|(8839,[2,35,43,44...|\n",
      "| 3.887787364640811|      7|(8839,[4,21,59,75...|\n",
      "| 4.171891660828927|      3|(8839,[4,21,59,75...|\n",
      "+------------------+-------+--------------------+\n",
      "only showing top 20 rows\n",
      "\n"
     ]
    }
   ],
   "source": [
    "predictions_1 = lr1_model.transform(tfidf_result_test)\n",
    "predictions_1.select(\"prediction\",\"level_1\",\"tfidf_features\").show()"
   ]
  },
  {
   "cell_type": "code",
   "execution_count": null,
   "metadata": {},
   "outputs": [],
   "source": [
    "# * DecisionTreeRegressor"
   ]
  },
  {
   "cell_type": "code",
   "execution_count": 77,
   "metadata": {},
   "outputs": [],
   "source": [
    "from pyspark.ml.regression import DecisionTreeRegressor\n",
    "dt_1 = DecisionTreeRegressor(featuresCol ='tfidf_features', labelCol = 'level_1')\n",
    "dt_model_1 = dt_1.fit(tfidf_result_training)\n",
    "dt_predictions_1 = dt_model_1.transform(tfidf_result_training)\n",
    "\n",
    "lr1_evaluator_1 = RegressionEvaluator(labelCol=\"level_1\", predictionCol=\"prediction\", metricName=\"rmse\")\n",
    "rmse_1 = lr1_evaluator_1.evaluate(dt_predictions_1)"
   ]
  },
  {
   "cell_type": "code",
   "execution_count": 76,
   "metadata": {},
   "outputs": [
    {
     "name": "stdout",
     "output_type": "stream",
     "text": [
      "Root Mean Squared Error (RMSE) on test data = 3.22599\n"
     ]
    }
   ],
   "source": [
    "print(\"Root Mean Squared Error (RMSE) on test data = %g\" % rmse_1)"
   ]
  },
  {
   "cell_type": "code",
   "execution_count": 93,
   "metadata": {},
   "outputs": [
    {
     "name": "stdout",
     "output_type": "stream",
     "text": [
      " r2 = 0.0752619\n"
     ]
    }
   ],
   "source": [
    "re_r2_1 = RegressionEvaluator(labelCol=\"level_1\", predictionCol=\"prediction\", metricName=\"r2\")\n",
    "re_rmse_1 = re_r2_1.evaluate(dt_predictions_1)\n",
    "print(\" r2 = %g\" % re_rmse_1)"
   ]
  },
  {
   "cell_type": "code",
   "execution_count": 138,
   "metadata": {},
   "outputs": [
    {
     "data": {
      "text/plain": [
       "Param(parent='DecisionTreeRegressor_647c986a08f8', name='featuresCol', doc='features column name.')"
      ]
     },
     "execution_count": 138,
     "metadata": {},
     "output_type": "execute_result"
    }
   ],
   "source": [
    "dt_model_1.featuresCol"
   ]
  },
  {
   "cell_type": "code",
   "execution_count": 78,
   "metadata": {
    "scrolled": false
   },
   "outputs": [
    {
     "data": {
      "text/plain": [
       "SparseVector(8839, {2: 0.0333, 18: 0.0025, 82: 0.0827, 104: 0.0486, 189: 0.0141, 199: 0.0243, 256: 0.0022, 295: 0.0131, 614: 0.0521, 624: 0.0066, 648: 0.027, 761: 0.1122, 1069: 0.0601, 1404: 0.0368, 1534: 0.0198, 1550: 0.0033, 1651: 0.0178, 1903: 0.0062, 1918: 0.0097, 1935: 0.0201, 2015: 0.0979, 2094: 0.0058, 2203: 0.0036, 3514: 0.1683, 3551: 0.0211, 5491: 0.074, 5977: 0.0119, 7187: 0.0248})"
      ]
     },
     "execution_count": 78,
     "metadata": {},
     "output_type": "execute_result"
    }
   ],
   "source": [
    "dt_model_1.featureImportances"
   ]
  },
  {
   "cell_type": "code",
   "execution_count": 133,
   "metadata": {
    "scrolled": true
   },
   "outputs": [
    {
     "ename": "TypeError",
     "evalue": "'Param' object is not callable",
     "output_type": "error",
     "traceback": [
      "\u001b[0;31m---------------------------------------------------------------------------\u001b[0m",
      "\u001b[0;31mTypeError\u001b[0m                                 Traceback (most recent call last)",
      "\u001b[0;32m<ipython-input-133-6e431064206b>\u001b[0m in \u001b[0;36m<module>\u001b[0;34m()\u001b[0m\n\u001b[0;32m----> 1\u001b[0;31m \u001b[0mdt_model_1\u001b[0m\u001b[0;34m.\u001b[0m\u001b[0mfeaturesCol\u001b[0m\u001b[0;34m(\u001b[0m\u001b[0;34m)\u001b[0m\u001b[0;34m.\u001b[0m\u001b[0mshow\u001b[0m\u001b[0;34m(\u001b[0m\u001b[0;36m2\u001b[0m\u001b[0;34m)\u001b[0m\u001b[0;34m\u001b[0m\u001b[0;34m\u001b[0m\u001b[0m\n\u001b[0m\u001b[1;32m      2\u001b[0m \u001b[0;34m\u001b[0m\u001b[0m\n",
      "\u001b[0;31mTypeError\u001b[0m: 'Param' object is not callable"
     ]
    }
   ],
   "source": [
    "dt_model_1.\n",
    "\n"
   ]
  },
  {
   "cell_type": "code",
   "execution_count": null,
   "metadata": {},
   "outputs": [],
   "source": []
  },
  {
   "cell_type": "code",
   "execution_count": 124,
   "metadata": {},
   "outputs": [
    {
     "data": {
      "text/plain": [
       "<bound method HasLabelCol.getLabelCol of DecisionTreeRegressionModel: uid=DecisionTreeRegressor_647c986a08f8, depth=5, numNodes=57, numFeatures=8839>"
      ]
     },
     "execution_count": 124,
     "metadata": {},
     "output_type": "execute_result"
    }
   ],
   "source": [
    "dt_model_1.getLabelCol"
   ]
  },
  {
   "cell_type": "code",
   "execution_count": null,
   "metadata": {},
   "outputs": [],
   "source": [
    "# * GBTRegressor"
   ]
  },
  {
   "cell_type": "code",
   "execution_count": 79,
   "metadata": {},
   "outputs": [
    {
     "name": "stdout",
     "output_type": "stream",
     "text": [
      "+-----------------+-------+--------------------+\n",
      "|       prediction|level_1|      tfidf_features|\n",
      "+-----------------+-------+--------------------+\n",
      "|3.794825074332152|      2|(8839,[4,13,18,32...|\n",
      "|3.794825074332152|      1|(8839,[2,4,13,18,...|\n",
      "|3.794825074332152|      1|(8839,[2,4,13,18,...|\n",
      "|4.216373191332545|      1|(8839,[2,15,18,23...|\n",
      "|4.216373191332545|      1|(8839,[15,18,23,2...|\n",
      "+-----------------+-------+--------------------+\n",
      "only showing top 5 rows\n",
      "\n"
     ]
    }
   ],
   "source": [
    "from pyspark.ml.regression import GBTRegressor\n",
    "gbt_1 = GBTRegressor(featuresCol = 'tfidf_features', labelCol = 'level_1', maxIter=10)\n",
    "gbt_model_1 = gbt_1.fit(tfidf_result_training)\n",
    "gbt_predictions_1 = gbt_model_1.transform(tfidf_result_test)\n",
    "gbt_predictions_1.select('prediction', 'level_1', 'tfidf_features').show(5)"
   ]
  },
  {
   "cell_type": "code",
   "execution_count": 80,
   "metadata": {
    "scrolled": true
   },
   "outputs": [
    {
     "name": "stdout",
     "output_type": "stream",
     "text": [
      "Root Mean Squared Error (RMSE) on test data = 3.45207\n"
     ]
    }
   ],
   "source": [
    "gbt_evaluator_1 = RegressionEvaluator(\n",
    "    labelCol=\"level_1\", predictionCol=\"prediction\", metricName=\"rmse\")\n",
    "rmse_1 = gbt_evaluator_1.evaluate(gbt_predictions_1)\n",
    "print(\"Root Mean Squared Error (RMSE) on test data = %g\" % rmse_1)"
   ]
  },
  {
   "cell_type": "code",
   "execution_count": 96,
   "metadata": {},
   "outputs": [
    {
     "name": "stdout",
     "output_type": "stream",
     "text": [
      "Root Mean Squared Error (r2) on test data = 0.0289555\n"
     ]
    }
   ],
   "source": [
    "gbt_evaluator_1_r2 = RegressionEvaluator(\n",
    "    labelCol=\"level_1\", predictionCol=\"prediction\", metricName=\"r2\")\n",
    "gbt_r2_1 = gbt_evaluator_1_r2.evaluate(gbt_predictions_1)\n",
    "print(\"Root Mean Squared Error (r2) on test data = %g\" % gbt_r2_1)"
   ]
  },
  {
   "cell_type": "code",
   "execution_count": null,
   "metadata": {},
   "outputs": [],
   "source": []
  },
  {
   "cell_type": "code",
   "execution_count": 97,
   "metadata": {},
   "outputs": [],
   "source": [
    "### TMP column_name= ** "
   ]
  },
  {
   "cell_type": "code",
   "execution_count": null,
   "metadata": {},
   "outputs": [],
   "source": [
    "# ** LinearRegression"
   ]
  },
  {
   "cell_type": "code",
   "execution_count": 99,
   "metadata": {},
   "outputs": [
    {
     "name": "stdout",
     "output_type": "stream",
     "text": [
      "Coefficients: (8839,[],[])\n",
      "Intercept: 0.4085306980178339\n"
     ]
    }
   ],
   "source": [
    "# regParam = Param(parent='undefined', name='regParam', doc='regularization parameter (>= 0).')¶\n",
    "# maxIter = Param(parent='undefined', name='maxIter', doc='max number of iterations (>= 0).')\n",
    "# elasticNetParam = Param(parent='undefined', name='elasticNetParam', doc='the ElasticNet mixing parameter, in range [0, 1]. For alpha = 0, the penalty is an L2 penalty. For alpha = 1, it is an L1 penalty.')\n",
    "from pyspark.ml.regression import LinearRegression\n",
    "lr2 = LinearRegression(featuresCol = 'tfidf_features', labelCol='level_2', maxIter=10, regParam=0.3, elasticNetParam=0.8)\n",
    "lr2_model = lr2.fit(tfidf_result_training)\n",
    "\n",
    "print(\"Coefficients: \" + str(lr2_model.coefficients))\n",
    "print(\"Intercept: \" + str(lr2_model.intercept))"
   ]
  },
  {
   "cell_type": "code",
   "execution_count": 100,
   "metadata": {},
   "outputs": [
    {
     "name": "stdout",
     "output_type": "stream",
     "text": [
      "RMSE: 0.805306\n",
      "r2: 0.000000\n"
     ]
    }
   ],
   "source": [
    "trainingSummary_2 = lr2_model.summary\n",
    "print(\"RMSE: %f\" % trainingSummary_2.rootMeanSquaredError)\n",
    "print(\"r2: %f\" % trainingSummary_2.r2)"
   ]
  },
  {
   "cell_type": "code",
   "execution_count": 101,
   "metadata": {},
   "outputs": [],
   "source": [
    "#tfidf_result_training[['level_1']].describe().show()"
   ]
  },
  {
   "cell_type": "code",
   "execution_count": 102,
   "metadata": {
    "scrolled": true
   },
   "outputs": [
    {
     "name": "stdout",
     "output_type": "stream",
     "text": [
      "+------------------+-------+--------------------+\n",
      "|        prediction|level_2|      tfidf_features|\n",
      "+------------------+-------+--------------------+\n",
      "|0.4085306980178339|      0|(8839,[4,13,18,32...|\n",
      "|0.4085306980178339|      0|(8839,[2,4,13,18,...|\n",
      "|0.4085306980178339|      0|(8839,[2,4,13,18,...|\n",
      "|0.4085306980178339|      0|(8839,[2,15,18,23...|\n",
      "|0.4085306980178339|      0|(8839,[15,18,23,2...|\n",
      "+------------------+-------+--------------------+\n",
      "only showing top 5 rows\n",
      "\n"
     ]
    }
   ],
   "source": [
    "lr2_predictions = lr2_model.transform(tfidf_result_test) \n",
    "lr2_predictions.select(\"prediction\",\"level_2\",\"tfidf_features\").show(5)\n"
   ]
  },
  {
   "cell_type": "code",
   "execution_count": null,
   "metadata": {},
   "outputs": [],
   "source": [
    "# ** RegressionEvaluator"
   ]
  },
  {
   "cell_type": "code",
   "execution_count": 103,
   "metadata": {},
   "outputs": [
    {
     "name": "stdout",
     "output_type": "stream",
     "text": [
      "R Squared (R2) on test data = -0.000473625\n"
     ]
    }
   ],
   "source": [
    "from pyspark.ml.evaluation import RegressionEvaluator \n",
    "lr2_evaluator = RegressionEvaluator(predictionCol=\"prediction\", labelCol=\"level_2\",metricName=\"r2\") \n",
    "print(\"R Squared (R2) on test data = %g\" % lr2_evaluator.evaluate (lr2_predictions))"
   ]
  },
  {
   "cell_type": "code",
   "execution_count": 104,
   "metadata": {},
   "outputs": [
    {
     "name": "stdout",
     "output_type": "stream",
     "text": [
      "測試數據的均方根誤差 (RMSE) = 0.831902\n"
     ]
    }
   ],
   "source": [
    "test_result_2 = lr2_model.evaluate(tfidf_result_test) \n",
    "print(\"測試數據的均方根誤差 (RMSE) = %g\" % test_result_2.rootMeanSquaredError)"
   ]
  },
  {
   "cell_type": "code",
   "execution_count": 105,
   "metadata": {},
   "outputs": [
    {
     "name": "stdout",
     "output_type": "stream",
     "text": [
      "numIterations: 0\n",
      "objectiveHistory: [0.4999716022036689]\n",
      "+-------------------+\n",
      "|          residuals|\n",
      "+-------------------+\n",
      "|-0.4085306980178339|\n",
      "| 0.5914693019821661|\n",
      "| 0.5914693019821661|\n",
      "| 0.5914693019821661|\n",
      "|-0.4085306980178339|\n",
      "|-0.4085306980178339|\n",
      "| 0.5914693019821661|\n",
      "|-0.4085306980178339|\n",
      "|-0.4085306980178339|\n",
      "|-0.4085306980178339|\n",
      "|-0.4085306980178339|\n",
      "|-0.4085306980178339|\n",
      "|-0.4085306980178339|\n",
      "|-0.4085306980178339|\n",
      "|-0.4085306980178339|\n",
      "|  3.591469301982166|\n",
      "|-0.4085306980178339|\n",
      "| 0.5914693019821661|\n",
      "|-0.4085306980178339|\n",
      "| 0.5914693019821661|\n",
      "+-------------------+\n",
      "only showing top 20 rows\n",
      "\n"
     ]
    }
   ],
   "source": [
    "print(\"numIterations: %d\" % trainingSummary_2.totalIterations) \n",
    "print(\"objectiveHistory: %s\" % str(trainingSummary_2.objectiveHistory)) \n",
    "trainingSummary_2.residuals.show()"
   ]
  },
  {
   "cell_type": "code",
   "execution_count": 106,
   "metadata": {},
   "outputs": [
    {
     "name": "stdout",
     "output_type": "stream",
     "text": [
      "+------------------+-------+--------------------+\n",
      "|        prediction|level_2|      tfidf_features|\n",
      "+------------------+-------+--------------------+\n",
      "|0.4085306980178339|      0|(8839,[4,13,18,32...|\n",
      "|0.4085306980178339|      0|(8839,[2,4,13,18,...|\n",
      "|0.4085306980178339|      0|(8839,[2,4,13,18,...|\n",
      "|0.4085306980178339|      0|(8839,[2,15,18,23...|\n",
      "|0.4085306980178339|      0|(8839,[15,18,23,2...|\n",
      "|0.4085306980178339|      0|(8839,[2,23,26,32...|\n",
      "|0.4085306980178339|      0|(8839,[38,91,122,...|\n",
      "|0.4085306980178339|      0|        (8839,[],[])|\n",
      "|0.4085306980178339|      1|(8839,[18,22,26,3...|\n",
      "|0.4085306980178339|      1|(8839,[4,7,8,9,10...|\n",
      "|0.4085306980178339|      1|(8839,[4,7,8,9,10...|\n",
      "|0.4085306980178339|      0|(8839,[4,7,8,9,10...|\n",
      "|0.4085306980178339|      0|(8839,[8,9,27,39,...|\n",
      "|0.4085306980178339|      0|(8839,[8,9,27,39,...|\n",
      "|0.4085306980178339|      0|(8839,[0,7,8,13,1...|\n",
      "|0.4085306980178339|      0|(8839,[46,70,75,1...|\n",
      "|0.4085306980178339|      0|(8839,[46,70,75,1...|\n",
      "|0.4085306980178339|      1|(8839,[2,35,43,44...|\n",
      "|0.4085306980178339|      0|(8839,[4,21,59,75...|\n",
      "|0.4085306980178339|      0|(8839,[4,21,59,75...|\n",
      "+------------------+-------+--------------------+\n",
      "only showing top 20 rows\n",
      "\n"
     ]
    }
   ],
   "source": [
    "predictions_2 = lr2_model.transform(tfidf_result_test)\n",
    "predictions_2.select(\"prediction\",\"level_2\",\"tfidf_features\").show()"
   ]
  },
  {
   "cell_type": "code",
   "execution_count": null,
   "metadata": {},
   "outputs": [],
   "source": [
    "# ** DecisionTreeRegressor"
   ]
  },
  {
   "cell_type": "code",
   "execution_count": 107,
   "metadata": {},
   "outputs": [
    {
     "name": "stdout",
     "output_type": "stream",
     "text": [
      "Root Mean Squared Error (RMSE) on test data = 0.760542\n"
     ]
    }
   ],
   "source": [
    "from pyspark.ml.regression import DecisionTreeRegressor\n",
    "dt_2 = DecisionTreeRegressor(featuresCol ='tfidf_features', labelCol = 'level_2')\n",
    "dt_model_2 = dt_2.fit(tfidf_result_training)\n",
    "dt_predictions_2 = dt_model_2.transform(tfidf_result_training)\n",
    "\n",
    "dt_evaluator_2 = RegressionEvaluator(labelCol=\"level_2\", predictionCol=\"prediction\", metricName=\"rmse\")\n",
    "rmse_2 = dt_evaluator_2.evaluate(dt_predictions_2)\n",
    "print(\"Root Mean Squared Error (RMSE) on test data = %g\" % rmse_2)"
   ]
  },
  {
   "cell_type": "code",
   "execution_count": 108,
   "metadata": {},
   "outputs": [
    {
     "name": "stdout",
     "output_type": "stream",
     "text": [
      "r2 = 0.108082\n"
     ]
    }
   ],
   "source": [
    "dt_evaluator_2 = RegressionEvaluator(labelCol=\"level_2\", predictionCol=\"prediction\", metricName=\"r2\")\n",
    "r2_2 = dt_evaluator_2.evaluate(dt_predictions_2)\n",
    "print(\"r2 = %g\" % r2_2)"
   ]
  },
  {
   "cell_type": "code",
   "execution_count": 109,
   "metadata": {},
   "outputs": [
    {
     "data": {
      "text/plain": [
       "SparseVector(8839, {0: 0.0053, 2: 0.0066, 4: 0.0154, 10: 0.0089, 12: 0.0024, 55: 0.0012, 146: 0.0266, 175: 0.0322, 182: 0.0055, 352: 0.0219, 636: 0.0004, 640: 0.0718, 641: 0.0226, 657: 0.0496, 770: 0.0099, 870: 0.0656, 3128: 0.0756, 3264: 0.0902, 3695: 0.0283, 4027: 0.2988, 5184: 0.0399, 8131: 0.0323, 8191: 0.0335, 8491: 0.0555})"
      ]
     },
     "execution_count": 109,
     "metadata": {},
     "output_type": "execute_result"
    }
   ],
   "source": [
    "dt_model_2.featureImportances"
   ]
  },
  {
   "cell_type": "code",
   "execution_count": null,
   "metadata": {},
   "outputs": [],
   "source": [
    "# ** GBTRegressor"
   ]
  },
  {
   "cell_type": "code",
   "execution_count": 110,
   "metadata": {},
   "outputs": [
    {
     "name": "stdout",
     "output_type": "stream",
     "text": [
      "+-------------------+-------+--------------------+\n",
      "|         prediction|level_2|      tfidf_features|\n",
      "+-------------------+-------+--------------------+\n",
      "|0.34219589002766915|      0|(8839,[4,13,18,32...|\n",
      "|0.34219589002766915|      0|(8839,[2,4,13,18,...|\n",
      "|0.34219589002766915|      0|(8839,[2,4,13,18,...|\n",
      "|0.38877182480774225|      0|(8839,[2,15,18,23...|\n",
      "|0.38877182480774225|      0|(8839,[15,18,23,2...|\n",
      "+-------------------+-------+--------------------+\n",
      "only showing top 5 rows\n",
      "\n"
     ]
    }
   ],
   "source": [
    "from pyspark.ml.regression import GBTRegressor\n",
    "gbt_2 = GBTRegressor(featuresCol = 'tfidf_features', labelCol = 'level_2', maxIter=10)\n",
    "gbt_model_2 = gbt_2.fit(tfidf_result_training)\n",
    "gbt_predictions_2 = gbt_model_2.transform(tfidf_result_test)\n",
    "gbt_predictions_2.select('prediction', 'level_2', 'tfidf_features').show(5)"
   ]
  },
  {
   "cell_type": "code",
   "execution_count": 111,
   "metadata": {},
   "outputs": [
    {
     "name": "stdout",
     "output_type": "stream",
     "text": [
      "Root Mean Squared Error (RMSE) on test data = 0.797634\n"
     ]
    }
   ],
   "source": [
    "gbt_evaluator_2 = RegressionEvaluator(\n",
    "    labelCol=\"level_2\", predictionCol=\"prediction\", metricName=\"rmse\")\n",
    "rmse_2 = gbt_evaluator_2.evaluate(gbt_predictions_2)\n",
    "print(\"Root Mean Squared Error (RMSE) on test data = %g\" % rmse_2)"
   ]
  },
  {
   "cell_type": "code",
   "execution_count": 112,
   "metadata": {},
   "outputs": [
    {
     "name": "stdout",
     "output_type": "stream",
     "text": [
      "r2 = 0.0802534\n"
     ]
    }
   ],
   "source": [
    "gbt_evaluator_2 = RegressionEvaluator(\n",
    "    labelCol=\"level_2\", predictionCol=\"prediction\", metricName=\"r2\")\n",
    "r2_2_2 = gbt_evaluator_2.evaluate(gbt_predictions_2)\n",
    "print(\"r2 = %g\" % r2_2_2)"
   ]
  },
  {
   "cell_type": "code",
   "execution_count": null,
   "metadata": {},
   "outputs": [],
   "source": []
  },
  {
   "cell_type": "code",
   "execution_count": null,
   "metadata": {},
   "outputs": [],
   "source": [
    "### TMP column_name= ***"
   ]
  },
  {
   "cell_type": "code",
   "execution_count": null,
   "metadata": {},
   "outputs": [],
   "source": [
    "# *** LinearRegression"
   ]
  },
  {
   "cell_type": "code",
   "execution_count": 81,
   "metadata": {},
   "outputs": [
    {
     "name": "stdout",
     "output_type": "stream",
     "text": [
      "Coefficients: (8839,[],[])\n",
      "Intercept: 0.7199409325836316\n"
     ]
    }
   ],
   "source": [
    "# regParam = Param(parent='undefined', name='regParam', doc='regularization parameter (>= 0).')¶\n",
    "# maxIter = Param(parent='undefined', name='maxIter', doc='max number of iterations (>= 0).')\n",
    "# elasticNetParam = Param(parent='undefined', name='elasticNetParam', doc='the ElasticNet mixing parameter, in range [0, 1]. For alpha = 0, the penalty is an L2 penalty. For alpha = 1, it is an L1 penalty.')\n",
    "from pyspark.ml.regression import LinearRegression\n",
    "lr3 = LinearRegression(featuresCol = 'tfidf_features', labelCol='level_3', maxIter=10, regParam=0.3, elasticNetParam=0.8)\n",
    "lr3_model = lr3.fit(tfidf_result_training)\n",
    "\n",
    "print(\"Coefficients: \" + str(lr3_model.coefficients))\n",
    "print(\"Intercept: \" + str(lr3_model.intercept))"
   ]
  },
  {
   "cell_type": "code",
   "execution_count": 82,
   "metadata": {},
   "outputs": [
    {
     "name": "stdout",
     "output_type": "stream",
     "text": [
      "RMSE: 1.174404\n",
      "r2: 0.000000\n"
     ]
    }
   ],
   "source": [
    "trainingSummary_3 = lr3_model.summary\n",
    "print(\"RMSE: %f\" % trainingSummary_3.rootMeanSquaredError)\n",
    "print(\"r2: %f\" % trainingSummary_3.r2)"
   ]
  },
  {
   "cell_type": "code",
   "execution_count": null,
   "metadata": {},
   "outputs": [],
   "source": [
    "#tfidf_result_training[['level_1']].describe().show()"
   ]
  },
  {
   "cell_type": "code",
   "execution_count": 83,
   "metadata": {
    "scrolled": true
   },
   "outputs": [
    {
     "name": "stdout",
     "output_type": "stream",
     "text": [
      "+------------------+-------+--------------------+\n",
      "|        prediction|level_3|      tfidf_features|\n",
      "+------------------+-------+--------------------+\n",
      "|0.7199409325836316|      0|(8839,[4,13,18,32...|\n",
      "|0.7199409325836316|      0|(8839,[2,4,13,18,...|\n",
      "|0.7199409325836316|      0|(8839,[2,4,13,18,...|\n",
      "|0.7199409325836316|      0|(8839,[2,15,18,23...|\n",
      "|0.7199409325836316|      1|(8839,[15,18,23,2...|\n",
      "+------------------+-------+--------------------+\n",
      "only showing top 5 rows\n",
      "\n"
     ]
    }
   ],
   "source": [
    "lr3_predictions = lr3_model.transform(tfidf_result_test) \n",
    "lr3_predictions.select(\"prediction\",\"level_3\",\"tfidf_features\").show(5)\n"
   ]
  },
  {
   "cell_type": "code",
   "execution_count": null,
   "metadata": {},
   "outputs": [],
   "source": [
    "# *** RegressionEvaluator"
   ]
  },
  {
   "cell_type": "code",
   "execution_count": 84,
   "metadata": {},
   "outputs": [
    {
     "name": "stdout",
     "output_type": "stream",
     "text": [
      "R Squared (R2) on test data = -0.000393047\n"
     ]
    }
   ],
   "source": [
    "from pyspark.ml.evaluation import RegressionEvaluator \n",
    "lr3_evaluator = RegressionEvaluator(predictionCol=\"prediction\", labelCol=\"level_3\",metricName=\"r2\") \n",
    "print(\"R Squared (R2) on test data = %g\" % lr3_evaluator.evaluate (lr3_predictions))"
   ]
  },
  {
   "cell_type": "code",
   "execution_count": 85,
   "metadata": {},
   "outputs": [
    {
     "name": "stdout",
     "output_type": "stream",
     "text": [
      "測試數據的均方根誤差 (RMSE) = 1.24407\n"
     ]
    }
   ],
   "source": [
    "test_result_3 = lr3_model.evaluate(tfidf_result_test) \n",
    "print(\"測試數據的均方根誤差 (RMSE) = %g\" % test_result_3.rootMeanSquaredError)"
   ]
  },
  {
   "cell_type": "code",
   "execution_count": 86,
   "metadata": {},
   "outputs": [
    {
     "name": "stdout",
     "output_type": "stream",
     "text": [
      "numIterations: 0\n",
      "objectiveHistory: [0.4999716022036691]\n",
      "+-------------------+\n",
      "|          residuals|\n",
      "+-------------------+\n",
      "|-0.7199409325836316|\n",
      "|0.28005906741636843|\n",
      "| 1.2800590674163685|\n",
      "|0.28005906741636843|\n",
      "|0.28005906741636843|\n",
      "|0.28005906741636843|\n",
      "|0.28005906741636843|\n",
      "| 1.2800590674163685|\n",
      "| 2.2800590674163685|\n",
      "|0.28005906741636843|\n",
      "|0.28005906741636843|\n",
      "|-0.7199409325836316|\n",
      "|-0.7199409325836316|\n",
      "|-0.7199409325836316|\n",
      "|0.28005906741636843|\n",
      "|-0.7199409325836316|\n",
      "|0.28005906741636843|\n",
      "|0.28005906741636843|\n",
      "| 1.2800590674163685|\n",
      "|0.28005906741636843|\n",
      "+-------------------+\n",
      "only showing top 20 rows\n",
      "\n"
     ]
    }
   ],
   "source": [
    "print(\"numIterations: %d\" % trainingSummary_3.totalIterations) \n",
    "print(\"objectiveHistory: %s\" % str(trainingSummary_3.objectiveHistory)) \n",
    "trainingSummary_3.residuals.show()"
   ]
  },
  {
   "cell_type": "code",
   "execution_count": 87,
   "metadata": {},
   "outputs": [
    {
     "name": "stdout",
     "output_type": "stream",
     "text": [
      "+------------------+-------+--------------------+\n",
      "|        prediction|level_3|      tfidf_features|\n",
      "+------------------+-------+--------------------+\n",
      "|0.7199409325836316|      0|(8839,[4,13,18,32...|\n",
      "|0.7199409325836316|      0|(8839,[2,4,13,18,...|\n",
      "|0.7199409325836316|      0|(8839,[2,4,13,18,...|\n",
      "|0.7199409325836316|      0|(8839,[2,15,18,23...|\n",
      "|0.7199409325836316|      1|(8839,[15,18,23,2...|\n",
      "|0.7199409325836316|      0|(8839,[2,23,26,32...|\n",
      "|0.7199409325836316|      0|(8839,[38,91,122,...|\n",
      "|0.7199409325836316|      1|        (8839,[],[])|\n",
      "|0.7199409325836316|      3|(8839,[18,22,26,3...|\n",
      "|0.7199409325836316|      2|(8839,[4,7,8,9,10...|\n",
      "|0.7199409325836316|      0|(8839,[4,7,8,9,10...|\n",
      "|0.7199409325836316|      0|(8839,[4,7,8,9,10...|\n",
      "|0.7199409325836316|      0|(8839,[8,9,27,39,...|\n",
      "|0.7199409325836316|      1|(8839,[8,9,27,39,...|\n",
      "|0.7199409325836316|      1|(8839,[0,7,8,13,1...|\n",
      "|0.7199409325836316|      1|(8839,[46,70,75,1...|\n",
      "|0.7199409325836316|      0|(8839,[46,70,75,1...|\n",
      "|0.7199409325836316|      0|(8839,[2,35,43,44...|\n",
      "|0.7199409325836316|      0|(8839,[4,21,59,75...|\n",
      "|0.7199409325836316|      1|(8839,[4,21,59,75...|\n",
      "+------------------+-------+--------------------+\n",
      "only showing top 20 rows\n",
      "\n"
     ]
    }
   ],
   "source": [
    "predictions_3 = lr3_model.transform(tfidf_result_test)\n",
    "predictions_3.select(\"prediction\",\"level_3\",\"tfidf_features\").show()"
   ]
  },
  {
   "cell_type": "code",
   "execution_count": null,
   "metadata": {},
   "outputs": [],
   "source": [
    "# *** DecisionTreeRegressor"
   ]
  },
  {
   "cell_type": "code",
   "execution_count": 88,
   "metadata": {},
   "outputs": [],
   "source": [
    "from pyspark.ml.regression import DecisionTreeRegressor\n",
    "dt_3 = DecisionTreeRegressor(featuresCol ='tfidf_features', labelCol = 'level_3')\n",
    "dt_model_3 = dt_3.fit(tfidf_result_training)\n",
    "dt_predictions_3 = dt_model_3.transform(tfidf_result_training)\n",
    "\n",
    "dt_evaluator_3 = RegressionEvaluator(labelCol=\"level_3\", predictionCol=\"prediction\", metricName=\"rmse\")\n",
    "rmse_3 = dt_evaluator_3.evaluate(dt_predictions_3)"
   ]
  },
  {
   "cell_type": "code",
   "execution_count": 89,
   "metadata": {
    "scrolled": true
   },
   "outputs": [
    {
     "name": "stdout",
     "output_type": "stream",
     "text": [
      "Root Mean Squared Error (RMSE) on test data = 1.14217\n"
     ]
    }
   ],
   "source": [
    "print(\"Root Mean Squared Error (RMSE) on test data = %g\" % rmse_3)"
   ]
  },
  {
   "cell_type": "code",
   "execution_count": 88,
   "metadata": {},
   "outputs": [],
   "source": [
    "# to do\n",
    "dt_evaluator_3_r2 = RegressionEvaluator(labelCol=\"level_3\", predictionCol=\"prediction\", metricName=\"r2\")\n",
    "rmse_3_r2 = dt_evaluator_3_r2.evaluate(dt_predictions_3)\n",
    "print(\"r2 = %g\" % rmse_3_r2)"
   ]
  },
  {
   "cell_type": "code",
   "execution_count": 90,
   "metadata": {},
   "outputs": [
    {
     "data": {
      "text/plain": [
       "SparseVector(8839, {2: 0.0103, 52: 0.0449, 69: 0.0004, 190: 0.005, 252: 0.151, 441: 0.0094, 491: 0.0632, 864: 0.1097, 960: 0.0914, 1065: 0.011, 1159: 0.0262, 1188: 0.0122, 1233: 0.0517, 1271: 0.0525, 1432: 0.0243, 1641: 0.0253, 1708: 0.0348, 2378: 0.0913, 4027: 0.0407, 4194: 0.0058, 4228: 0.0093, 4610: 0.0452, 4934: 0.0352, 4998: 0.034, 6269: 0.0019, 8479: 0.0133})"
      ]
     },
     "execution_count": 90,
     "metadata": {},
     "output_type": "execute_result"
    }
   ],
   "source": [
    "dt_model_3.featureImportances"
   ]
  },
  {
   "cell_type": "code",
   "execution_count": null,
   "metadata": {},
   "outputs": [],
   "source": [
    "# *** GBTRegressor"
   ]
  },
  {
   "cell_type": "code",
   "execution_count": 91,
   "metadata": {},
   "outputs": [
    {
     "name": "stdout",
     "output_type": "stream",
     "text": [
      "+-------------------+-------+--------------------+\n",
      "|         prediction|level_3|      tfidf_features|\n",
      "+-------------------+-------+--------------------+\n",
      "| 0.7369319784626313|      0|(8839,[4,13,18,32...|\n",
      "| 0.8950276646704375|      0|(8839,[2,4,13,18,...|\n",
      "| 0.8950276646704375|      0|(8839,[2,4,13,18,...|\n",
      "|0.47002940038540025|      0|(8839,[2,15,18,23...|\n",
      "|0.37664135928274906|      1|(8839,[15,18,23,2...|\n",
      "+-------------------+-------+--------------------+\n",
      "only showing top 5 rows\n",
      "\n"
     ]
    }
   ],
   "source": [
    "from pyspark.ml.regression import GBTRegressor\n",
    "gbt_3 = GBTRegressor(featuresCol = 'tfidf_features', labelCol = 'level_3', maxIter=10)\n",
    "gbt_model_3 = gbt_3.fit(tfidf_result_training)\n",
    "gbt_predictions_3 = gbt_model_3.transform(tfidf_result_test)\n",
    "gbt_predictions_3.select('prediction', 'level_3', 'tfidf_features').show(5)"
   ]
  },
  {
   "cell_type": "code",
   "execution_count": 92,
   "metadata": {},
   "outputs": [
    {
     "name": "stdout",
     "output_type": "stream",
     "text": [
      "Root Mean Squared Error (RMSE) on test data = 1.22615\n"
     ]
    }
   ],
   "source": [
    "gbt_evaluator_3 = RegressionEvaluator(\n",
    "    labelCol=\"level_3\", predictionCol=\"prediction\", metricName=\"rmse\")\n",
    "rmse_3 = gbt_evaluator_3.evaluate(gbt_predictions_3)\n",
    "print(\"Root Mean Squared Error (RMSE) on test data = %g\" % rmse_3)"
   ]
  },
  {
   "cell_type": "code",
   "execution_count": 98,
   "metadata": {},
   "outputs": [
    {
     "name": "stdout",
     "output_type": "stream",
     "text": [
      "r2 = 0.028227\n"
     ]
    }
   ],
   "source": [
    "gbt_evaluator_3_r2 = RegressionEvaluator(\n",
    "    labelCol=\"level_3\", predictionCol=\"prediction\", metricName=\"r2\")\n",
    "rmse_3_r2 = gbt_evaluator_3_r2.evaluate(gbt_predictions_3)\n",
    "print(\"r2 = %g\" % rmse_3_r2)"
   ]
  },
  {
   "cell_type": "code",
   "execution_count": null,
   "metadata": {},
   "outputs": [],
   "source": []
  },
  {
   "cell_type": "code",
   "execution_count": null,
   "metadata": {},
   "outputs": [],
   "source": [
    "# RDD years predit tmp***count\n",
    "# find DecisionTreeRegressor category to words !!!\n",
    "# GPU setting step\n",
    "# R2"
   ]
  },
  {
   "cell_type": "code",
   "execution_count": null,
   "metadata": {},
   "outputs": [],
   "source": []
  },
  {
   "cell_type": "code",
   "execution_count": null,
   "metadata": {},
   "outputs": [],
   "source": []
  },
  {
   "cell_type": "code",
   "execution_count": null,
   "metadata": {},
   "outputs": [],
   "source": []
  }
 ],
 "metadata": {
  "kernelspec": {
   "display_name": "Python 3",
   "language": "python",
   "name": "python3"
  },
  "language_info": {
   "codemirror_mode": {
    "name": "ipython",
    "version": 3
   },
   "file_extension": ".py",
   "mimetype": "text/x-python",
   "name": "python",
   "nbconvert_exporter": "python",
   "pygments_lexer": "ipython3",
   "version": "3.6.9"
  }
 },
 "nbformat": 4,
 "nbformat_minor": 2
}
